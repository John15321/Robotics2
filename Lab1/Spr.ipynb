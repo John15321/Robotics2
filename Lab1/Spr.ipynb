{
 "metadata": {
  "language_info": {
   "codemirror_mode": {
    "name": "ipython",
    "version": 3
   },
   "file_extension": ".py",
   "mimetype": "text/x-python",
   "name": "python",
   "nbconvert_exporter": "python",
   "pygments_lexer": "ipython3",
   "version": "3.8.0-final"
  },
  "orig_nbformat": 2,
  "kernelspec": {
   "name": "python380jvsc74a57bd0cb6d46fc8e04b8bd66baa0e76926df2e8c4d74c7d5c24ff62c07287bfc22311c",
   "display_name": "Python 3.8.0 64-bit ('3.8.0')"
  },
  "metadata": {
   "interpreter": {
    "hash": "cb6d46fc8e04b8bd66baa0e76926df2e8c4d74c7d5c24ff62c07287bfc22311c"
   }
  }
 },
 "nbformat": 4,
 "nbformat_minor": 2,
 "cells": [
  {
   "source": [
    "<center> <h1>Robotyka 2, Zadanie 1</h1> </center>\n",
    "<center> <h2>Jan Bronicki, Kacper Gąsieniec</h2> </center>"
   ],
   "cell_type": "markdown",
   "metadata": {}
  },
  {
   "source": [
    "# 1. Cel zadania\n",
    "Celem zadanie jest zabadanie fizycznych parametrów robota FANUC oraz jego strukturą kinematyczną.\n",
    "W celu obliczenia fizycznych parametrów robota obliczamy macierz kinematyki oraz macierze transformacji pomiędzy kolejnymi układami współrzędnych z podanej tabeli Denavita-Hartenberga:\n",
    "\n",
    "|Ogniwo | $a_i$ | $\\alpha_i$       | $d_i$  | $\\theta_i$            |\n",
    "|:-----:|:-----:|:----------------:|:------:|---------------------|\n",
    "|$1$    | $d_1$ | $-\\frac{\\pi}{2}$ | $0$    | $q_1$                 |\n",
    "|$2$    | $d_2$ | $\\pi$            | $0$    | $q_2 - \\frac{\\pi}{2}$ |\n",
    "|$3$    | $d_3$ | $-\\frac{\\pi}{2}$ | $0$    | $q_2 + q_3$           |\n",
    "|$4$    | $0$   | $\\frac{\\pi}{2}$  | $-d_4$ | $q_4$                 |\n",
    "|$5$    | $0$   | $-\\frac{\\pi}{2}$ | $0$    | $q_5$                 |\n",
    "|$6$    | $0$   | $0$              | $-d_5$ | $q_6$                 |\n"
   ],
   "cell_type": "markdown",
   "metadata": {}
  },
  {
   "source": [
    "# 2. Obliczenia\n",
    "Do oblcizeń używamy Python'a. Przeprowadzamy obliczenia symboliczne za pomocą biblioteki SymPy:"
   ],
   "cell_type": "markdown",
   "metadata": {}
  },
  {
   "source": [
    "from sympy import *\n",
    "from rotations import *\n",
    "# Deklarujemy zmienne symboliczne jakie moglibysmy potrzebowac\n",
    "q1, q2, q3, q4, q5, q6 = symbols('q1, q2, q3, q4, q5, q6', real=True)\n",
    "a, a1, a2, a3 = symbols('a a1 a2 a3', real=True)\n",
    "d, d1, d2, d3, d4, d5 = symbols('d, d1, d2, d3, d4, d5', real=True)\n",
    "alfa, beta = symbols('\\\\alpha \\\\beta', real=True)\n",
    "x, y, z = symbols('x y z')"
   ],
   "cell_type": "code",
   "metadata": {},
   "execution_count": 48,
   "outputs": []
  },
  {
   "source": [
    "# $A_{01}=$"
   ],
   "cell_type": "markdown",
   "metadata": {}
  },
  {
   "cell_type": "code",
   "execution_count": 49,
   "metadata": {},
   "outputs": [
    {
     "output_type": "execute_result",
     "data": {
      "text/plain": [
       "Matrix([\n",
       "[cos(q1),  0, -sin(q1), d1*cos(q1)],\n",
       "[sin(q1),  0,  cos(q1), d1*sin(q1)],\n",
       "[      0, -1,        0,          0],\n",
       "[      0,  0,        0,          1]])"
      ],
      "text/latex": "$\\displaystyle \\left[\\begin{matrix}\\cos{\\left(q_{1} \\right)} & 0 & - \\sin{\\left(q_{1} \\right)} & d_{1} \\cos{\\left(q_{1} \\right)}\\\\\\sin{\\left(q_{1} \\right)} & 0 & \\cos{\\left(q_{1} \\right)} & d_{1} \\sin{\\left(q_{1} \\right)}\\\\0 & -1 & 0 & 0\\\\0 & 0 & 0 & 1\\end{matrix}\\right]$"
     },
     "metadata": {},
     "execution_count": 49
    }
   ],
   "source": [
    "A01 = rot(z, q1)*trans(z, 0)*trans(x, d1)*rot(x, -pi/2)\n",
    "A01"
   ]
  },
  {
   "source": [
    "# $A_{12}=$"
   ],
   "cell_type": "markdown",
   "metadata": {}
  },
  {
   "cell_type": "code",
   "execution_count": 50,
   "metadata": {},
   "outputs": [
    {
     "output_type": "execute_result",
     "data": {
      "text/plain": [
       "Matrix([\n",
       "[ sin(q2), -cos(q2),  0,  d2*sin(q2)],\n",
       "[-cos(q2), -sin(q2),  0, -d2*cos(q2)],\n",
       "[       0,        0, -1,           0],\n",
       "[       0,        0,  0,           1]])"
      ],
      "text/latex": "$\\displaystyle \\left[\\begin{matrix}\\sin{\\left(q_{2} \\right)} & - \\cos{\\left(q_{2} \\right)} & 0 & d_{2} \\sin{\\left(q_{2} \\right)}\\\\- \\cos{\\left(q_{2} \\right)} & - \\sin{\\left(q_{2} \\right)} & 0 & - d_{2} \\cos{\\left(q_{2} \\right)}\\\\0 & 0 & -1 & 0\\\\0 & 0 & 0 & 1\\end{matrix}\\right]$"
     },
     "metadata": {},
     "execution_count": 50
    }
   ],
   "source": [
    "A12 = rot(z, q2-(pi/2))*trans(z, 0)*trans(x, d2)*rot(x, pi)\n",
    "A12"
   ]
  },
  {
   "source": [
    "# $A_{23}=$"
   ],
   "cell_type": "markdown",
   "metadata": {}
  },
  {
   "cell_type": "code",
   "execution_count": 51,
   "metadata": {},
   "outputs": [
    {
     "output_type": "execute_result",
     "data": {
      "text/plain": [
       "Matrix([\n",
       "[cos(q2 + q3),  0, -sin(q2 + q3), d3*cos(q2 + q3)],\n",
       "[sin(q2 + q3),  0,  cos(q2 + q3), d3*sin(q2 + q3)],\n",
       "[           0, -1,             0,               0],\n",
       "[           0,  0,             0,               1]])"
      ],
      "text/latex": "$\\displaystyle \\left[\\begin{matrix}\\cos{\\left(q_{2} + q_{3} \\right)} & 0 & - \\sin{\\left(q_{2} + q_{3} \\right)} & d_{3} \\cos{\\left(q_{2} + q_{3} \\right)}\\\\\\sin{\\left(q_{2} + q_{3} \\right)} & 0 & \\cos{\\left(q_{2} + q_{3} \\right)} & d_{3} \\sin{\\left(q_{2} + q_{3} \\right)}\\\\0 & -1 & 0 & 0\\\\0 & 0 & 0 & 1\\end{matrix}\\right]$"
     },
     "metadata": {},
     "execution_count": 51
    }
   ],
   "source": [
    "A23 = rot(z, q2+q3)*trans(z, 0)*trans(x, d3)*rot(x, -pi/2)\n",
    "A23"
   ]
  },
  {
   "source": [
    "# $A_{34}=$"
   ],
   "cell_type": "markdown",
   "metadata": {}
  },
  {
   "cell_type": "code",
   "execution_count": 52,
   "metadata": {},
   "outputs": [
    {
     "output_type": "execute_result",
     "data": {
      "text/plain": [
       "Matrix([\n",
       "[cos(q4), 0,  sin(q4),   0],\n",
       "[sin(q4), 0, -cos(q4),   0],\n",
       "[      0, 1,        0, -d4],\n",
       "[      0, 0,        0,   1]])"
      ],
      "text/latex": "$\\displaystyle \\left[\\begin{matrix}\\cos{\\left(q_{4} \\right)} & 0 & \\sin{\\left(q_{4} \\right)} & 0\\\\\\sin{\\left(q_{4} \\right)} & 0 & - \\cos{\\left(q_{4} \\right)} & 0\\\\0 & 1 & 0 & - d_{4}\\\\0 & 0 & 0 & 1\\end{matrix}\\right]$"
     },
     "metadata": {},
     "execution_count": 52
    }
   ],
   "source": [
    "A34 = rot(z, q4)*trans(z, -d4)*trans(x, 0)*rot(x, pi/2)\n",
    "A34"
   ]
  },
  {
   "source": [
    "# $A_{45}=$"
   ],
   "cell_type": "markdown",
   "metadata": {}
  },
  {
   "cell_type": "code",
   "execution_count": 53,
   "metadata": {},
   "outputs": [
    {
     "output_type": "execute_result",
     "data": {
      "text/plain": [
       "Matrix([\n",
       "[cos(q5),  0, -sin(q5), 0],\n",
       "[sin(q5),  0,  cos(q5), 0],\n",
       "[      0, -1,        0, 0],\n",
       "[      0,  0,        0, 1]])"
      ],
      "text/latex": "$\\displaystyle \\left[\\begin{matrix}\\cos{\\left(q_{5} \\right)} & 0 & - \\sin{\\left(q_{5} \\right)} & 0\\\\\\sin{\\left(q_{5} \\right)} & 0 & \\cos{\\left(q_{5} \\right)} & 0\\\\0 & -1 & 0 & 0\\\\0 & 0 & 0 & 1\\end{matrix}\\right]$"
     },
     "metadata": {},
     "execution_count": 53
    }
   ],
   "source": [
    "A45 = rot(z, q5)*trans(z, 0)*trans(x, 0)*rot(x, -pi/2)\n",
    "A45"
   ]
  },
  {
   "source": [
    "# $A_{56}=$"
   ],
   "cell_type": "markdown",
   "metadata": {}
  },
  {
   "cell_type": "code",
   "execution_count": 54,
   "metadata": {},
   "outputs": [
    {
     "output_type": "execute_result",
     "data": {
      "text/plain": [
       "Matrix([\n",
       "[cos(q6), -sin(q6), 0,   0],\n",
       "[sin(q6),  cos(q6), 0,   0],\n",
       "[      0,        0, 1, -d5],\n",
       "[      0,        0, 0,   1]])"
      ],
      "text/latex": "$\\displaystyle \\left[\\begin{matrix}\\cos{\\left(q_{6} \\right)} & - \\sin{\\left(q_{6} \\right)} & 0 & 0\\\\\\sin{\\left(q_{6} \\right)} & \\cos{\\left(q_{6} \\right)} & 0 & 0\\\\0 & 0 & 1 & - d_{5}\\\\0 & 0 & 0 & 1\\end{matrix}\\right]$"
     },
     "metadata": {},
     "execution_count": 54
    }
   ],
   "source": [
    "A56 = rot(z, q6)*trans(z, -d5)*trans(x, 0)*rot(x, 0)\n",
    "A56"
   ]
  },
  {
   "source": [
    "# $A_{03}=A_{01}A_{12}A_{23}=$"
   ],
   "cell_type": "markdown",
   "metadata": {}
  },
  {
   "cell_type": "code",
   "execution_count": 55,
   "metadata": {},
   "outputs": [
    {
     "output_type": "execute_result",
     "data": {
      "text/plain": [
       "Matrix([\n",
       "[-sin(q3)*cos(q1), -sin(q1), -cos(q1)*cos(q3), (d1 + d2*sin(q2) - d3*sin(q3))*cos(q1)],\n",
       "[-sin(q1)*sin(q3),  cos(q1), -sin(q1)*cos(q3), (d1 + d2*sin(q2) - d3*sin(q3))*sin(q1)],\n",
       "[         cos(q3),        0,         -sin(q3),                d2*cos(q2) + d3*cos(q3)],\n",
       "[               0,        0,                0,                                      1]])"
      ],
      "text/latex": "$\\displaystyle \\left[\\begin{matrix}- \\sin{\\left(q_{3} \\right)} \\cos{\\left(q_{1} \\right)} & - \\sin{\\left(q_{1} \\right)} & - \\cos{\\left(q_{1} \\right)} \\cos{\\left(q_{3} \\right)} & \\left(d_{1} + d_{2} \\sin{\\left(q_{2} \\right)} - d_{3} \\sin{\\left(q_{3} \\right)}\\right) \\cos{\\left(q_{1} \\right)}\\\\- \\sin{\\left(q_{1} \\right)} \\sin{\\left(q_{3} \\right)} & \\cos{\\left(q_{1} \\right)} & - \\sin{\\left(q_{1} \\right)} \\cos{\\left(q_{3} \\right)} & \\left(d_{1} + d_{2} \\sin{\\left(q_{2} \\right)} - d_{3} \\sin{\\left(q_{3} \\right)}\\right) \\sin{\\left(q_{1} \\right)}\\\\\\cos{\\left(q_{3} \\right)} & 0 & - \\sin{\\left(q_{3} \\right)} & d_{2} \\cos{\\left(q_{2} \\right)} + d_{3} \\cos{\\left(q_{3} \\right)}\\\\0 & 0 & 0 & 1\\end{matrix}\\right]$"
     },
     "metadata": {},
     "execution_count": 55
    }
   ],
   "source": [
    "A03 = simplify(A01*A12*A23)\n",
    "A03"
   ]
  },
  {
   "source": [
    "# $K=$"
   ],
   "cell_type": "markdown",
   "metadata": {}
  },
  {
   "cell_type": "code",
   "execution_count": 56,
   "metadata": {},
   "outputs": [
    {
     "output_type": "execute_result",
     "data": {
      "text/plain": [
       "Matrix([\n",
       "[-(sin(q3)*cos(q4)*cos(q5) + sin(q5)*cos(q3))*cos(q6) + sin(q3)*sin(q4)*sin(q6),  (sin(q3)*cos(q4)*cos(q5) + sin(q5)*cos(q3))*sin(q6) + sin(q3)*sin(q4)*cos(q6), sin(q3)*sin(q5)*cos(q4) - cos(q3)*cos(q5),  d2*sin(q2) - d3*sin(q3) + d4*cos(q3) - d5*sin(q3)*sin(q5)*cos(q4) + d5*cos(q3)*cos(q5)],\n",
       "[ (sin(q3)*sin(q5) - cos(q3)*cos(q4)*cos(q5))*cos(q6) + sin(q4)*sin(q6)*cos(q3), (-sin(q3)*sin(q5) + cos(q3)*cos(q4)*cos(q5))*sin(q6) + sin(q4)*cos(q3)*cos(q6), sin(q3)*cos(q5) + sin(q5)*cos(q3)*cos(q4), -d2*cos(q2) - d3*cos(q3) - d4*sin(q3) - d5*sin(q3)*cos(q5) - d5*sin(q5)*cos(q3)*cos(q4)],\n",
       "[                                     sin(q4)*cos(q5)*cos(q6) + sin(q6)*cos(q4),                                     -sin(q4)*sin(q6)*cos(q5) + cos(q4)*cos(q6),                          -sin(q4)*sin(q5),                                                                      d5*sin(q4)*sin(q5)],\n",
       "[                                                                             0,                                                                              0,                                         0,                                                                                       1]])"
      ],
      "text/latex": "$\\displaystyle \\left[\\begin{matrix}- \\left(\\sin{\\left(q_{3} \\right)} \\cos{\\left(q_{4} \\right)} \\cos{\\left(q_{5} \\right)} + \\sin{\\left(q_{5} \\right)} \\cos{\\left(q_{3} \\right)}\\right) \\cos{\\left(q_{6} \\right)} + \\sin{\\left(q_{3} \\right)} \\sin{\\left(q_{4} \\right)} \\sin{\\left(q_{6} \\right)} & \\left(\\sin{\\left(q_{3} \\right)} \\cos{\\left(q_{4} \\right)} \\cos{\\left(q_{5} \\right)} + \\sin{\\left(q_{5} \\right)} \\cos{\\left(q_{3} \\right)}\\right) \\sin{\\left(q_{6} \\right)} + \\sin{\\left(q_{3} \\right)} \\sin{\\left(q_{4} \\right)} \\cos{\\left(q_{6} \\right)} & \\sin{\\left(q_{3} \\right)} \\sin{\\left(q_{5} \\right)} \\cos{\\left(q_{4} \\right)} - \\cos{\\left(q_{3} \\right)} \\cos{\\left(q_{5} \\right)} & d_{2} \\sin{\\left(q_{2} \\right)} - d_{3} \\sin{\\left(q_{3} \\right)} + d_{4} \\cos{\\left(q_{3} \\right)} - d_{5} \\sin{\\left(q_{3} \\right)} \\sin{\\left(q_{5} \\right)} \\cos{\\left(q_{4} \\right)} + d_{5} \\cos{\\left(q_{3} \\right)} \\cos{\\left(q_{5} \\right)}\\\\\\left(\\sin{\\left(q_{3} \\right)} \\sin{\\left(q_{5} \\right)} - \\cos{\\left(q_{3} \\right)} \\cos{\\left(q_{4} \\right)} \\cos{\\left(q_{5} \\right)}\\right) \\cos{\\left(q_{6} \\right)} + \\sin{\\left(q_{4} \\right)} \\sin{\\left(q_{6} \\right)} \\cos{\\left(q_{3} \\right)} & \\left(- \\sin{\\left(q_{3} \\right)} \\sin{\\left(q_{5} \\right)} + \\cos{\\left(q_{3} \\right)} \\cos{\\left(q_{4} \\right)} \\cos{\\left(q_{5} \\right)}\\right) \\sin{\\left(q_{6} \\right)} + \\sin{\\left(q_{4} \\right)} \\cos{\\left(q_{3} \\right)} \\cos{\\left(q_{6} \\right)} & \\sin{\\left(q_{3} \\right)} \\cos{\\left(q_{5} \\right)} + \\sin{\\left(q_{5} \\right)} \\cos{\\left(q_{3} \\right)} \\cos{\\left(q_{4} \\right)} & - d_{2} \\cos{\\left(q_{2} \\right)} - d_{3} \\cos{\\left(q_{3} \\right)} - d_{4} \\sin{\\left(q_{3} \\right)} - d_{5} \\sin{\\left(q_{3} \\right)} \\cos{\\left(q_{5} \\right)} - d_{5} \\sin{\\left(q_{5} \\right)} \\cos{\\left(q_{3} \\right)} \\cos{\\left(q_{4} \\right)}\\\\\\sin{\\left(q_{4} \\right)} \\cos{\\left(q_{5} \\right)} \\cos{\\left(q_{6} \\right)} + \\sin{\\left(q_{6} \\right)} \\cos{\\left(q_{4} \\right)} & - \\sin{\\left(q_{4} \\right)} \\sin{\\left(q_{6} \\right)} \\cos{\\left(q_{5} \\right)} + \\cos{\\left(q_{4} \\right)} \\cos{\\left(q_{6} \\right)} & - \\sin{\\left(q_{4} \\right)} \\sin{\\left(q_{5} \\right)} & d_{5} \\sin{\\left(q_{4} \\right)} \\sin{\\left(q_{5} \\right)}\\\\0 & 0 & 0 & 1\\end{matrix}\\right]$"
     },
     "metadata": {},
     "execution_count": 56
    }
   ],
   "source": [
    "K = simplify(A12*A23*A34*A45*A56)\n",
    "K"
   ]
  },
  {
   "cell_type": "code",
   "execution_count": 57,
   "metadata": {},
   "outputs": [
    {
     "output_type": "execute_result",
     "data": {
      "text/plain": [
       "Matrix([\n",
       "[ d2*sin(q2) - d3*sin(q3) + d4*cos(q3) - d5*sin(q3)*sin(q5)*cos(q4) + d5*cos(q3)*cos(q5)],\n",
       "[-d2*cos(q2) - d3*cos(q3) - d4*sin(q3) - d5*sin(q3)*cos(q5) - d5*sin(q5)*cos(q3)*cos(q4)],\n",
       "[                                                                     d5*sin(q4)*sin(q5)],\n",
       "[                                                                                      1]])"
      ],
      "text/latex": "$\\displaystyle \\left[\\begin{matrix}d_{2} \\sin{\\left(q_{2} \\right)} - d_{3} \\sin{\\left(q_{3} \\right)} + d_{4} \\cos{\\left(q_{3} \\right)} - d_{5} \\sin{\\left(q_{3} \\right)} \\sin{\\left(q_{5} \\right)} \\cos{\\left(q_{4} \\right)} + d_{5} \\cos{\\left(q_{3} \\right)} \\cos{\\left(q_{5} \\right)}\\\\- d_{2} \\cos{\\left(q_{2} \\right)} - d_{3} \\cos{\\left(q_{3} \\right)} - d_{4} \\sin{\\left(q_{3} \\right)} - d_{5} \\sin{\\left(q_{3} \\right)} \\cos{\\left(q_{5} \\right)} - d_{5} \\sin{\\left(q_{5} \\right)} \\cos{\\left(q_{3} \\right)} \\cos{\\left(q_{4} \\right)}\\\\d_{5} \\sin{\\left(q_{4} \\right)} \\sin{\\left(q_{5} \\right)}\\\\1\\end{matrix}\\right]$"
     },
     "metadata": {},
     "execution_count": 57
    }
   ],
   "source": [
    "K_kart = K.col(3)\n",
    "K_kart.row_del(3)\n",
    "K_kart # Tr"
   ]
  },
  {
   "cell_type": "code",
   "execution_count": 58,
   "metadata": {},
   "outputs": [
    {
     "output_type": "execute_result",
     "data": {
      "text/plain": [
       "Matrix([\n",
       "[ d2*sin(q2) - d3*sin(q3) + d4*cos(q3) - d5*sin(q3)*sin(q5)*cos(q4) + d5*cos(q3)*cos(q5)],\n",
       "[-d2*cos(q2) - d3*cos(q3) - d4*sin(q3) - d5*sin(q3)*cos(q5) - d5*sin(q5)*cos(q3)*cos(q4)],\n",
       "[                                                                     d5*sin(q4)*sin(q5)],\n",
       "[                                                                                      1]])"
      ],
      "text/latex": "$\\displaystyle \\left[\\begin{matrix}d_{2} \\sin{\\left(q_{2} \\right)} - d_{3} \\sin{\\left(q_{3} \\right)} + d_{4} \\cos{\\left(q_{3} \\right)} - d_{5} \\sin{\\left(q_{3} \\right)} \\sin{\\left(q_{5} \\right)} \\cos{\\left(q_{4} \\right)} + d_{5} \\cos{\\left(q_{3} \\right)} \\cos{\\left(q_{5} \\right)}\\\\- d_{2} \\cos{\\left(q_{2} \\right)} - d_{3} \\cos{\\left(q_{3} \\right)} - d_{4} \\sin{\\left(q_{3} \\right)} - d_{5} \\sin{\\left(q_{3} \\right)} \\cos{\\left(q_{5} \\right)} - d_{5} \\sin{\\left(q_{5} \\right)} \\cos{\\left(q_{3} \\right)} \\cos{\\left(q_{4} \\right)}\\\\d_{5} \\sin{\\left(q_{4} \\right)} \\sin{\\left(q_{5} \\right)}\\\\1\\end{matrix}\\right]$"
     },
     "metadata": {},
     "execution_count": 58
    }
   ],
   "source": [
    "simplify(K_kart)"
   ]
  }
 ]
}