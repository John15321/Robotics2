{
 "metadata": {
  "language_info": {
   "codemirror_mode": {
    "name": "ipython",
    "version": 3
   },
   "file_extension": ".py",
   "mimetype": "text/x-python",
   "name": "python",
   "nbconvert_exporter": "python",
   "pygments_lexer": "ipython3",
   "version": "3.9.2-final"
  },
  "orig_nbformat": 2,
  "kernelspec": {
   "name": "python3",
   "display_name": "Python 3",
   "language": "python"
  }
 },
 "nbformat": 4,
 "nbformat_minor": 2,
 "cells": [
  {
   "cell_type": "code",
   "execution_count": 1,
   "metadata": {},
   "outputs": [],
   "source": [
    "from sympy import *\n",
    "from rotations import *\n",
    "q1, q2, q3, q4, q5, q6 = symbols('q1, q2, q3, q4, q5, q6', real=True)  # q\n",
    "a, a1, a2, a3 = symbols('a a1 a2 a3', real=True)    # a\n",
    "d, d1, d2, d3, d4, d5 = symbols('d, d1, d2, d3, d4, d5', real=True)    # d\n",
    "alfa, beta = symbols('\\\\alpha \\\\beta', real=True)\n",
    "x, y, z = symbols('x y z')                          # osie\n",
    "#\n",
    "# rot(z,q1)*trans(z,a1)*trans(x,a)*rot(z,pi/2)"
   ]
  },
  {
   "cell_type": "code",
   "execution_count": 2,
   "metadata": {},
   "outputs": [
    {
     "output_type": "execute_result",
     "data": {
      "text/plain": [
       "Matrix([\n",
       "[cos(q1),  0, -sin(q1), d1*cos(q1)],\n",
       "[sin(q1),  0,  cos(q1), d1*sin(q1)],\n",
       "[      0, -1,        0,          0],\n",
       "[      0,  0,        0,          1]])"
      ],
      "text/latex": "$\\displaystyle \\left[\\begin{matrix}\\cos{\\left(q_{1} \\right)} & 0 & - \\sin{\\left(q_{1} \\right)} & d_{1} \\cos{\\left(q_{1} \\right)}\\\\\\sin{\\left(q_{1} \\right)} & 0 & \\cos{\\left(q_{1} \\right)} & d_{1} \\sin{\\left(q_{1} \\right)}\\\\0 & -1 & 0 & 0\\\\0 & 0 & 0 & 1\\end{matrix}\\right]$"
     },
     "metadata": {},
     "execution_count": 2
    }
   ],
   "source": [
    "A01 = rot(z, q1)*trans(z, 0)*trans(x, d1)*rot(x, -pi/2)\n",
    "A01"
   ]
  },
  {
   "cell_type": "code",
   "execution_count": 3,
   "metadata": {},
   "outputs": [
    {
     "output_type": "execute_result",
     "data": {
      "text/plain": [
       "Matrix([\n",
       "[ sin(q2), -cos(q2),  0,  d2*sin(q2)],\n",
       "[-cos(q2), -sin(q2),  0, -d2*cos(q2)],\n",
       "[       0,        0, -1,           0],\n",
       "[       0,        0,  0,           1]])"
      ],
      "text/latex": "$\\displaystyle \\left[\\begin{matrix}\\sin{\\left(q_{2} \\right)} & - \\cos{\\left(q_{2} \\right)} & 0 & d_{2} \\sin{\\left(q_{2} \\right)}\\\\- \\cos{\\left(q_{2} \\right)} & - \\sin{\\left(q_{2} \\right)} & 0 & - d_{2} \\cos{\\left(q_{2} \\right)}\\\\0 & 0 & -1 & 0\\\\0 & 0 & 0 & 1\\end{matrix}\\right]$"
     },
     "metadata": {},
     "execution_count": 3
    }
   ],
   "source": [
    "A12 = rot(z, q2-(pi/2))*trans(z, 0)*trans(x, d2)*rot(x,pi)\n",
    "A12"
   ]
  },
  {
   "cell_type": "code",
   "execution_count": 4,
   "metadata": {},
   "outputs": [
    {
     "output_type": "execute_result",
     "data": {
      "text/plain": [
       "Matrix([\n",
       "[cos(q2 + q3),  0, -sin(q2 + q3), d3*cos(q2 + q3)],\n",
       "[sin(q2 + q3),  0,  cos(q2 + q3), d3*sin(q2 + q3)],\n",
       "[           0, -1,             0,               0],\n",
       "[           0,  0,             0,               1]])"
      ],
      "text/latex": "$\\displaystyle \\left[\\begin{matrix}\\cos{\\left(q_{2} + q_{3} \\right)} & 0 & - \\sin{\\left(q_{2} + q_{3} \\right)} & d_{3} \\cos{\\left(q_{2} + q_{3} \\right)}\\\\\\sin{\\left(q_{2} + q_{3} \\right)} & 0 & \\cos{\\left(q_{2} + q_{3} \\right)} & d_{3} \\sin{\\left(q_{2} + q_{3} \\right)}\\\\0 & -1 & 0 & 0\\\\0 & 0 & 0 & 1\\end{matrix}\\right]$"
     },
     "metadata": {},
     "execution_count": 4
    }
   ],
   "source": [
    "A23 = rot(z, q2+q3)*trans(z, 0)*trans(x, d3)*rot(x, -pi/2)\n",
    "A23"
   ]
  },
  {
   "cell_type": "code",
   "execution_count": 5,
   "metadata": {},
   "outputs": [
    {
     "output_type": "execute_result",
     "data": {
      "text/plain": [
       "Matrix([\n",
       "[cos(q4), -sin(q4), 0, -pi*cos(q4)/2],\n",
       "[sin(q4),  cos(q4), 0, -pi*sin(q4)/2],\n",
       "[      0,        0, 1,           -d4],\n",
       "[      0,        0, 0,             1]])"
      ],
      "text/latex": "$\\displaystyle \\left[\\begin{matrix}\\cos{\\left(q_{4} \\right)} & - \\sin{\\left(q_{4} \\right)} & 0 & - \\frac{\\pi \\cos{\\left(q_{4} \\right)}}{2}\\\\\\sin{\\left(q_{4} \\right)} & \\cos{\\left(q_{4} \\right)} & 0 & - \\frac{\\pi \\sin{\\left(q_{4} \\right)}}{2}\\\\0 & 0 & 1 & - d_{4}\\\\0 & 0 & 0 & 1\\end{matrix}\\right]$"
     },
     "metadata": {},
     "execution_count": 5
    }
   ],
   "source": [
    "A34 = rot(z, q4)*trans(z, -d4)*trans(x, -pi/2)*rot(x, 0)\n",
    "A34"
   ]
  },
  {
   "cell_type": "code",
   "execution_count": 6,
   "metadata": {},
   "outputs": [
    {
     "output_type": "execute_result",
     "data": {
      "text/plain": [
       "Matrix([\n",
       "[cos(q5), -sin(q5), 0, -pi*cos(q5)/2],\n",
       "[sin(q5),  cos(q5), 0, -pi*sin(q5)/2],\n",
       "[      0,        0, 1,             0],\n",
       "[      0,        0, 0,             1]])"
      ],
      "text/latex": "$\\displaystyle \\left[\\begin{matrix}\\cos{\\left(q_{5} \\right)} & - \\sin{\\left(q_{5} \\right)} & 0 & - \\frac{\\pi \\cos{\\left(q_{5} \\right)}}{2}\\\\\\sin{\\left(q_{5} \\right)} & \\cos{\\left(q_{5} \\right)} & 0 & - \\frac{\\pi \\sin{\\left(q_{5} \\right)}}{2}\\\\0 & 0 & 1 & 0\\\\0 & 0 & 0 & 1\\end{matrix}\\right]$"
     },
     "metadata": {},
     "execution_count": 6
    }
   ],
   "source": [
    "A45 = rot(z, q5)*trans(z, 0)*trans(x, -pi/2)*rot(x, 0)\n",
    "A45"
   ]
  },
  {
   "cell_type": "code",
   "execution_count": 7,
   "metadata": {},
   "outputs": [
    {
     "output_type": "execute_result",
     "data": {
      "text/plain": [
       "Matrix([\n",
       "[cos(q6), -sin(q6), 0,   0],\n",
       "[sin(q6),  cos(q6), 0,   0],\n",
       "[      0,        0, 1, -d5],\n",
       "[      0,        0, 0,   1]])"
      ],
      "text/latex": "$\\displaystyle \\left[\\begin{matrix}\\cos{\\left(q_{6} \\right)} & - \\sin{\\left(q_{6} \\right)} & 0 & 0\\\\\\sin{\\left(q_{6} \\right)} & \\cos{\\left(q_{6} \\right)} & 0 & 0\\\\0 & 0 & 1 & - d_{5}\\\\0 & 0 & 0 & 1\\end{matrix}\\right]$"
     },
     "metadata": {},
     "execution_count": 7
    }
   ],
   "source": [
    "A56 = rot(z, q6)*trans(z, -d5)*trans(x, 0)*rot(x, 0)\n",
    "A56"
   ]
  },
  {
   "cell_type": "code",
   "execution_count": 8,
   "metadata": {},
   "outputs": [
    {
     "output_type": "execute_result",
     "data": {
      "text/plain": [
       "Matrix([\n",
       "[((-(sin(q2)*cos(q1)*cos(q2 + q3) - sin(q2 + q3)*cos(q1)*cos(q2))*sin(q4) - sin(q1)*cos(q4))*sin(q5) + ((sin(q2)*cos(q1)*cos(q2 + q3) - sin(q2 + q3)*cos(q1)*cos(q2))*cos(q4) - sin(q1)*sin(q4))*cos(q5))*cos(q6) + ((-(sin(q2)*cos(q1)*cos(q2 + q3) - sin(q2 + q3)*cos(q1)*cos(q2))*sin(q4) - sin(q1)*cos(q4))*cos(q5) - ((sin(q2)*cos(q1)*cos(q2 + q3) - sin(q2 + q3)*cos(q1)*cos(q2))*cos(q4) - sin(q1)*sin(q4))*sin(q5))*sin(q6), -((-(sin(q2)*cos(q1)*cos(q2 + q3) - sin(q2 + q3)*cos(q1)*cos(q2))*sin(q4) - sin(q1)*cos(q4))*sin(q5) + ((sin(q2)*cos(q1)*cos(q2 + q3) - sin(q2 + q3)*cos(q1)*cos(q2))*cos(q4) - sin(q1)*sin(q4))*cos(q5))*sin(q6) + ((-(sin(q2)*cos(q1)*cos(q2 + q3) - sin(q2 + q3)*cos(q1)*cos(q2))*sin(q4) - sin(q1)*cos(q4))*cos(q5) - ((sin(q2)*cos(q1)*cos(q2 + q3) - sin(q2 + q3)*cos(q1)*cos(q2))*cos(q4) - sin(q1)*sin(q4))*sin(q5))*cos(q6), -sin(q2)*sin(q2 + q3)*cos(q1) - cos(q1)*cos(q2)*cos(q2 + q3), d1*cos(q1) + d2*sin(q2)*cos(q1) + d3*sin(q2)*cos(q1)*cos(q2 + q3) - d3*sin(q2 + q3)*cos(q1)*cos(q2) - d4*(-sin(q2)*sin(q2 + q3)*cos(q1) - cos(q1)*cos(q2)*cos(q2 + q3)) - d5*(-sin(q2)*sin(q2 + q3)*cos(q1) - cos(q1)*cos(q2)*cos(q2 + q3)) - pi*(-(sin(q2)*cos(q1)*cos(q2 + q3) - sin(q2 + q3)*cos(q1)*cos(q2))*sin(q4) - sin(q1)*cos(q4))*sin(q5)/2 - pi*((sin(q2)*cos(q1)*cos(q2 + q3) - sin(q2 + q3)*cos(q1)*cos(q2))*cos(q4) - sin(q1)*sin(q4))*cos(q5)/2 - pi*(sin(q2)*cos(q1)*cos(q2 + q3) - sin(q2 + q3)*cos(q1)*cos(q2))*cos(q4)/2 + pi*sin(q1)*sin(q4)/2],\n",
       "[((-(sin(q1)*sin(q2)*cos(q2 + q3) - sin(q1)*sin(q2 + q3)*cos(q2))*sin(q4) + cos(q1)*cos(q4))*sin(q5) + ((sin(q1)*sin(q2)*cos(q2 + q3) - sin(q1)*sin(q2 + q3)*cos(q2))*cos(q4) + sin(q4)*cos(q1))*cos(q5))*cos(q6) + ((-(sin(q1)*sin(q2)*cos(q2 + q3) - sin(q1)*sin(q2 + q3)*cos(q2))*sin(q4) + cos(q1)*cos(q4))*cos(q5) - ((sin(q1)*sin(q2)*cos(q2 + q3) - sin(q1)*sin(q2 + q3)*cos(q2))*cos(q4) + sin(q4)*cos(q1))*sin(q5))*sin(q6), -((-(sin(q1)*sin(q2)*cos(q2 + q3) - sin(q1)*sin(q2 + q3)*cos(q2))*sin(q4) + cos(q1)*cos(q4))*sin(q5) + ((sin(q1)*sin(q2)*cos(q2 + q3) - sin(q1)*sin(q2 + q3)*cos(q2))*cos(q4) + sin(q4)*cos(q1))*cos(q5))*sin(q6) + ((-(sin(q1)*sin(q2)*cos(q2 + q3) - sin(q1)*sin(q2 + q3)*cos(q2))*sin(q4) + cos(q1)*cos(q4))*cos(q5) - ((sin(q1)*sin(q2)*cos(q2 + q3) - sin(q1)*sin(q2 + q3)*cos(q2))*cos(q4) + sin(q4)*cos(q1))*sin(q5))*cos(q6), -sin(q1)*sin(q2)*sin(q2 + q3) - sin(q1)*cos(q2)*cos(q2 + q3), d1*sin(q1) + d2*sin(q1)*sin(q2) + d3*sin(q1)*sin(q2)*cos(q2 + q3) - d3*sin(q1)*sin(q2 + q3)*cos(q2) - d4*(-sin(q1)*sin(q2)*sin(q2 + q3) - sin(q1)*cos(q2)*cos(q2 + q3)) - d5*(-sin(q1)*sin(q2)*sin(q2 + q3) - sin(q1)*cos(q2)*cos(q2 + q3)) - pi*(-(sin(q1)*sin(q2)*cos(q2 + q3) - sin(q1)*sin(q2 + q3)*cos(q2))*sin(q4) + cos(q1)*cos(q4))*sin(q5)/2 - pi*((sin(q1)*sin(q2)*cos(q2 + q3) - sin(q1)*sin(q2 + q3)*cos(q2))*cos(q4) + sin(q4)*cos(q1))*cos(q5)/2 - pi*(sin(q1)*sin(q2)*cos(q2 + q3) - sin(q1)*sin(q2 + q3)*cos(q2))*cos(q4)/2 - pi*sin(q4)*cos(q1)/2],\n",
       "[                                                                                                                                                (-(sin(q2)*sin(q2 + q3) + cos(q2)*cos(q2 + q3))*sin(q4)*sin(q5) + (sin(q2)*sin(q2 + q3) + cos(q2)*cos(q2 + q3))*cos(q4)*cos(q5))*cos(q6) + (-(sin(q2)*sin(q2 + q3) + cos(q2)*cos(q2 + q3))*sin(q4)*cos(q5) - (sin(q2)*sin(q2 + q3) + cos(q2)*cos(q2 + q3))*sin(q5)*cos(q4))*sin(q6),                                                                                                                                                 -(-(sin(q2)*sin(q2 + q3) + cos(q2)*cos(q2 + q3))*sin(q4)*sin(q5) + (sin(q2)*sin(q2 + q3) + cos(q2)*cos(q2 + q3))*cos(q4)*cos(q5))*sin(q6) + (-(sin(q2)*sin(q2 + q3) + cos(q2)*cos(q2 + q3))*sin(q4)*cos(q5) - (sin(q2)*sin(q2 + q3) + cos(q2)*cos(q2 + q3))*sin(q5)*cos(q4))*cos(q6),                  sin(q2)*cos(q2 + q3) - sin(q2 + q3)*cos(q2),                                                                                                                                                                                        d2*cos(q2) + d3*sin(q2)*sin(q2 + q3) + d3*cos(q2)*cos(q2 + q3) - d4*(sin(q2)*cos(q2 + q3) - sin(q2 + q3)*cos(q2)) - d5*(sin(q2)*cos(q2 + q3) - sin(q2 + q3)*cos(q2)) + pi*(sin(q2)*sin(q2 + q3) + cos(q2)*cos(q2 + q3))*sin(q4)*sin(q5)/2 - pi*(sin(q2)*sin(q2 + q3) + cos(q2)*cos(q2 + q3))*cos(q4)*cos(q5)/2 - pi*(sin(q2)*sin(q2 + q3) + cos(q2)*cos(q2 + q3))*cos(q4)/2],\n",
       "[                                                                                                                                                                                                                                                                                                                                                                                                                                  0,                                                                                                                                                                                                                                                                                                                                                                                                                                    0,                                                            0,                                                                                                                                                                                                                                                                                                                                                                                                                                                                                                                                                                  1]])"
      ],
      "text/latex": "$\\displaystyle \\left[\\begin{matrix}\\left(\\left(- \\left(\\sin{\\left(q_{2} \\right)} \\cos{\\left(q_{1} \\right)} \\cos{\\left(q_{2} + q_{3} \\right)} - \\sin{\\left(q_{2} + q_{3} \\right)} \\cos{\\left(q_{1} \\right)} \\cos{\\left(q_{2} \\right)}\\right) \\sin{\\left(q_{4} \\right)} - \\sin{\\left(q_{1} \\right)} \\cos{\\left(q_{4} \\right)}\\right) \\sin{\\left(q_{5} \\right)} + \\left(\\left(\\sin{\\left(q_{2} \\right)} \\cos{\\left(q_{1} \\right)} \\cos{\\left(q_{2} + q_{3} \\right)} - \\sin{\\left(q_{2} + q_{3} \\right)} \\cos{\\left(q_{1} \\right)} \\cos{\\left(q_{2} \\right)}\\right) \\cos{\\left(q_{4} \\right)} - \\sin{\\left(q_{1} \\right)} \\sin{\\left(q_{4} \\right)}\\right) \\cos{\\left(q_{5} \\right)}\\right) \\cos{\\left(q_{6} \\right)} + \\left(\\left(- \\left(\\sin{\\left(q_{2} \\right)} \\cos{\\left(q_{1} \\right)} \\cos{\\left(q_{2} + q_{3} \\right)} - \\sin{\\left(q_{2} + q_{3} \\right)} \\cos{\\left(q_{1} \\right)} \\cos{\\left(q_{2} \\right)}\\right) \\sin{\\left(q_{4} \\right)} - \\sin{\\left(q_{1} \\right)} \\cos{\\left(q_{4} \\right)}\\right) \\cos{\\left(q_{5} \\right)} - \\left(\\left(\\sin{\\left(q_{2} \\right)} \\cos{\\left(q_{1} \\right)} \\cos{\\left(q_{2} + q_{3} \\right)} - \\sin{\\left(q_{2} + q_{3} \\right)} \\cos{\\left(q_{1} \\right)} \\cos{\\left(q_{2} \\right)}\\right) \\cos{\\left(q_{4} \\right)} - \\sin{\\left(q_{1} \\right)} \\sin{\\left(q_{4} \\right)}\\right) \\sin{\\left(q_{5} \\right)}\\right) \\sin{\\left(q_{6} \\right)} & - \\left(\\left(- \\left(\\sin{\\left(q_{2} \\right)} \\cos{\\left(q_{1} \\right)} \\cos{\\left(q_{2} + q_{3} \\right)} - \\sin{\\left(q_{2} + q_{3} \\right)} \\cos{\\left(q_{1} \\right)} \\cos{\\left(q_{2} \\right)}\\right) \\sin{\\left(q_{4} \\right)} - \\sin{\\left(q_{1} \\right)} \\cos{\\left(q_{4} \\right)}\\right) \\sin{\\left(q_{5} \\right)} + \\left(\\left(\\sin{\\left(q_{2} \\right)} \\cos{\\left(q_{1} \\right)} \\cos{\\left(q_{2} + q_{3} \\right)} - \\sin{\\left(q_{2} + q_{3} \\right)} \\cos{\\left(q_{1} \\right)} \\cos{\\left(q_{2} \\right)}\\right) \\cos{\\left(q_{4} \\right)} - \\sin{\\left(q_{1} \\right)} \\sin{\\left(q_{4} \\right)}\\right) \\cos{\\left(q_{5} \\right)}\\right) \\sin{\\left(q_{6} \\right)} + \\left(\\left(- \\left(\\sin{\\left(q_{2} \\right)} \\cos{\\left(q_{1} \\right)} \\cos{\\left(q_{2} + q_{3} \\right)} - \\sin{\\left(q_{2} + q_{3} \\right)} \\cos{\\left(q_{1} \\right)} \\cos{\\left(q_{2} \\right)}\\right) \\sin{\\left(q_{4} \\right)} - \\sin{\\left(q_{1} \\right)} \\cos{\\left(q_{4} \\right)}\\right) \\cos{\\left(q_{5} \\right)} - \\left(\\left(\\sin{\\left(q_{2} \\right)} \\cos{\\left(q_{1} \\right)} \\cos{\\left(q_{2} + q_{3} \\right)} - \\sin{\\left(q_{2} + q_{3} \\right)} \\cos{\\left(q_{1} \\right)} \\cos{\\left(q_{2} \\right)}\\right) \\cos{\\left(q_{4} \\right)} - \\sin{\\left(q_{1} \\right)} \\sin{\\left(q_{4} \\right)}\\right) \\sin{\\left(q_{5} \\right)}\\right) \\cos{\\left(q_{6} \\right)} & - \\sin{\\left(q_{2} \\right)} \\sin{\\left(q_{2} + q_{3} \\right)} \\cos{\\left(q_{1} \\right)} - \\cos{\\left(q_{1} \\right)} \\cos{\\left(q_{2} \\right)} \\cos{\\left(q_{2} + q_{3} \\right)} & d_{1} \\cos{\\left(q_{1} \\right)} + d_{2} \\sin{\\left(q_{2} \\right)} \\cos{\\left(q_{1} \\right)} + d_{3} \\sin{\\left(q_{2} \\right)} \\cos{\\left(q_{1} \\right)} \\cos{\\left(q_{2} + q_{3} \\right)} - d_{3} \\sin{\\left(q_{2} + q_{3} \\right)} \\cos{\\left(q_{1} \\right)} \\cos{\\left(q_{2} \\right)} - d_{4} \\left(- \\sin{\\left(q_{2} \\right)} \\sin{\\left(q_{2} + q_{3} \\right)} \\cos{\\left(q_{1} \\right)} - \\cos{\\left(q_{1} \\right)} \\cos{\\left(q_{2} \\right)} \\cos{\\left(q_{2} + q_{3} \\right)}\\right) - d_{5} \\left(- \\sin{\\left(q_{2} \\right)} \\sin{\\left(q_{2} + q_{3} \\right)} \\cos{\\left(q_{1} \\right)} - \\cos{\\left(q_{1} \\right)} \\cos{\\left(q_{2} \\right)} \\cos{\\left(q_{2} + q_{3} \\right)}\\right) - \\frac{\\pi \\left(- \\left(\\sin{\\left(q_{2} \\right)} \\cos{\\left(q_{1} \\right)} \\cos{\\left(q_{2} + q_{3} \\right)} - \\sin{\\left(q_{2} + q_{3} \\right)} \\cos{\\left(q_{1} \\right)} \\cos{\\left(q_{2} \\right)}\\right) \\sin{\\left(q_{4} \\right)} - \\sin{\\left(q_{1} \\right)} \\cos{\\left(q_{4} \\right)}\\right) \\sin{\\left(q_{5} \\right)}}{2} - \\frac{\\pi \\left(\\left(\\sin{\\left(q_{2} \\right)} \\cos{\\left(q_{1} \\right)} \\cos{\\left(q_{2} + q_{3} \\right)} - \\sin{\\left(q_{2} + q_{3} \\right)} \\cos{\\left(q_{1} \\right)} \\cos{\\left(q_{2} \\right)}\\right) \\cos{\\left(q_{4} \\right)} - \\sin{\\left(q_{1} \\right)} \\sin{\\left(q_{4} \\right)}\\right) \\cos{\\left(q_{5} \\right)}}{2} - \\frac{\\pi \\left(\\sin{\\left(q_{2} \\right)} \\cos{\\left(q_{1} \\right)} \\cos{\\left(q_{2} + q_{3} \\right)} - \\sin{\\left(q_{2} + q_{3} \\right)} \\cos{\\left(q_{1} \\right)} \\cos{\\left(q_{2} \\right)}\\right) \\cos{\\left(q_{4} \\right)}}{2} + \\frac{\\pi \\sin{\\left(q_{1} \\right)} \\sin{\\left(q_{4} \\right)}}{2}\\\\\\left(\\left(- \\left(\\sin{\\left(q_{1} \\right)} \\sin{\\left(q_{2} \\right)} \\cos{\\left(q_{2} + q_{3} \\right)} - \\sin{\\left(q_{1} \\right)} \\sin{\\left(q_{2} + q_{3} \\right)} \\cos{\\left(q_{2} \\right)}\\right) \\sin{\\left(q_{4} \\right)} + \\cos{\\left(q_{1} \\right)} \\cos{\\left(q_{4} \\right)}\\right) \\sin{\\left(q_{5} \\right)} + \\left(\\left(\\sin{\\left(q_{1} \\right)} \\sin{\\left(q_{2} \\right)} \\cos{\\left(q_{2} + q_{3} \\right)} - \\sin{\\left(q_{1} \\right)} \\sin{\\left(q_{2} + q_{3} \\right)} \\cos{\\left(q_{2} \\right)}\\right) \\cos{\\left(q_{4} \\right)} + \\sin{\\left(q_{4} \\right)} \\cos{\\left(q_{1} \\right)}\\right) \\cos{\\left(q_{5} \\right)}\\right) \\cos{\\left(q_{6} \\right)} + \\left(\\left(- \\left(\\sin{\\left(q_{1} \\right)} \\sin{\\left(q_{2} \\right)} \\cos{\\left(q_{2} + q_{3} \\right)} - \\sin{\\left(q_{1} \\right)} \\sin{\\left(q_{2} + q_{3} \\right)} \\cos{\\left(q_{2} \\right)}\\right) \\sin{\\left(q_{4} \\right)} + \\cos{\\left(q_{1} \\right)} \\cos{\\left(q_{4} \\right)}\\right) \\cos{\\left(q_{5} \\right)} - \\left(\\left(\\sin{\\left(q_{1} \\right)} \\sin{\\left(q_{2} \\right)} \\cos{\\left(q_{2} + q_{3} \\right)} - \\sin{\\left(q_{1} \\right)} \\sin{\\left(q_{2} + q_{3} \\right)} \\cos{\\left(q_{2} \\right)}\\right) \\cos{\\left(q_{4} \\right)} + \\sin{\\left(q_{4} \\right)} \\cos{\\left(q_{1} \\right)}\\right) \\sin{\\left(q_{5} \\right)}\\right) \\sin{\\left(q_{6} \\right)} & - \\left(\\left(- \\left(\\sin{\\left(q_{1} \\right)} \\sin{\\left(q_{2} \\right)} \\cos{\\left(q_{2} + q_{3} \\right)} - \\sin{\\left(q_{1} \\right)} \\sin{\\left(q_{2} + q_{3} \\right)} \\cos{\\left(q_{2} \\right)}\\right) \\sin{\\left(q_{4} \\right)} + \\cos{\\left(q_{1} \\right)} \\cos{\\left(q_{4} \\right)}\\right) \\sin{\\left(q_{5} \\right)} + \\left(\\left(\\sin{\\left(q_{1} \\right)} \\sin{\\left(q_{2} \\right)} \\cos{\\left(q_{2} + q_{3} \\right)} - \\sin{\\left(q_{1} \\right)} \\sin{\\left(q_{2} + q_{3} \\right)} \\cos{\\left(q_{2} \\right)}\\right) \\cos{\\left(q_{4} \\right)} + \\sin{\\left(q_{4} \\right)} \\cos{\\left(q_{1} \\right)}\\right) \\cos{\\left(q_{5} \\right)}\\right) \\sin{\\left(q_{6} \\right)} + \\left(\\left(- \\left(\\sin{\\left(q_{1} \\right)} \\sin{\\left(q_{2} \\right)} \\cos{\\left(q_{2} + q_{3} \\right)} - \\sin{\\left(q_{1} \\right)} \\sin{\\left(q_{2} + q_{3} \\right)} \\cos{\\left(q_{2} \\right)}\\right) \\sin{\\left(q_{4} \\right)} + \\cos{\\left(q_{1} \\right)} \\cos{\\left(q_{4} \\right)}\\right) \\cos{\\left(q_{5} \\right)} - \\left(\\left(\\sin{\\left(q_{1} \\right)} \\sin{\\left(q_{2} \\right)} \\cos{\\left(q_{2} + q_{3} \\right)} - \\sin{\\left(q_{1} \\right)} \\sin{\\left(q_{2} + q_{3} \\right)} \\cos{\\left(q_{2} \\right)}\\right) \\cos{\\left(q_{4} \\right)} + \\sin{\\left(q_{4} \\right)} \\cos{\\left(q_{1} \\right)}\\right) \\sin{\\left(q_{5} \\right)}\\right) \\cos{\\left(q_{6} \\right)} & - \\sin{\\left(q_{1} \\right)} \\sin{\\left(q_{2} \\right)} \\sin{\\left(q_{2} + q_{3} \\right)} - \\sin{\\left(q_{1} \\right)} \\cos{\\left(q_{2} \\right)} \\cos{\\left(q_{2} + q_{3} \\right)} & d_{1} \\sin{\\left(q_{1} \\right)} + d_{2} \\sin{\\left(q_{1} \\right)} \\sin{\\left(q_{2} \\right)} + d_{3} \\sin{\\left(q_{1} \\right)} \\sin{\\left(q_{2} \\right)} \\cos{\\left(q_{2} + q_{3} \\right)} - d_{3} \\sin{\\left(q_{1} \\right)} \\sin{\\left(q_{2} + q_{3} \\right)} \\cos{\\left(q_{2} \\right)} - d_{4} \\left(- \\sin{\\left(q_{1} \\right)} \\sin{\\left(q_{2} \\right)} \\sin{\\left(q_{2} + q_{3} \\right)} - \\sin{\\left(q_{1} \\right)} \\cos{\\left(q_{2} \\right)} \\cos{\\left(q_{2} + q_{3} \\right)}\\right) - d_{5} \\left(- \\sin{\\left(q_{1} \\right)} \\sin{\\left(q_{2} \\right)} \\sin{\\left(q_{2} + q_{3} \\right)} - \\sin{\\left(q_{1} \\right)} \\cos{\\left(q_{2} \\right)} \\cos{\\left(q_{2} + q_{3} \\right)}\\right) - \\frac{\\pi \\left(- \\left(\\sin{\\left(q_{1} \\right)} \\sin{\\left(q_{2} \\right)} \\cos{\\left(q_{2} + q_{3} \\right)} - \\sin{\\left(q_{1} \\right)} \\sin{\\left(q_{2} + q_{3} \\right)} \\cos{\\left(q_{2} \\right)}\\right) \\sin{\\left(q_{4} \\right)} + \\cos{\\left(q_{1} \\right)} \\cos{\\left(q_{4} \\right)}\\right) \\sin{\\left(q_{5} \\right)}}{2} - \\frac{\\pi \\left(\\left(\\sin{\\left(q_{1} \\right)} \\sin{\\left(q_{2} \\right)} \\cos{\\left(q_{2} + q_{3} \\right)} - \\sin{\\left(q_{1} \\right)} \\sin{\\left(q_{2} + q_{3} \\right)} \\cos{\\left(q_{2} \\right)}\\right) \\cos{\\left(q_{4} \\right)} + \\sin{\\left(q_{4} \\right)} \\cos{\\left(q_{1} \\right)}\\right) \\cos{\\left(q_{5} \\right)}}{2} - \\frac{\\pi \\left(\\sin{\\left(q_{1} \\right)} \\sin{\\left(q_{2} \\right)} \\cos{\\left(q_{2} + q_{3} \\right)} - \\sin{\\left(q_{1} \\right)} \\sin{\\left(q_{2} + q_{3} \\right)} \\cos{\\left(q_{2} \\right)}\\right) \\cos{\\left(q_{4} \\right)}}{2} - \\frac{\\pi \\sin{\\left(q_{4} \\right)} \\cos{\\left(q_{1} \\right)}}{2}\\\\\\left(- \\left(\\sin{\\left(q_{2} \\right)} \\sin{\\left(q_{2} + q_{3} \\right)} + \\cos{\\left(q_{2} \\right)} \\cos{\\left(q_{2} + q_{3} \\right)}\\right) \\sin{\\left(q_{4} \\right)} \\sin{\\left(q_{5} \\right)} + \\left(\\sin{\\left(q_{2} \\right)} \\sin{\\left(q_{2} + q_{3} \\right)} + \\cos{\\left(q_{2} \\right)} \\cos{\\left(q_{2} + q_{3} \\right)}\\right) \\cos{\\left(q_{4} \\right)} \\cos{\\left(q_{5} \\right)}\\right) \\cos{\\left(q_{6} \\right)} + \\left(- \\left(\\sin{\\left(q_{2} \\right)} \\sin{\\left(q_{2} + q_{3} \\right)} + \\cos{\\left(q_{2} \\right)} \\cos{\\left(q_{2} + q_{3} \\right)}\\right) \\sin{\\left(q_{4} \\right)} \\cos{\\left(q_{5} \\right)} - \\left(\\sin{\\left(q_{2} \\right)} \\sin{\\left(q_{2} + q_{3} \\right)} + \\cos{\\left(q_{2} \\right)} \\cos{\\left(q_{2} + q_{3} \\right)}\\right) \\sin{\\left(q_{5} \\right)} \\cos{\\left(q_{4} \\right)}\\right) \\sin{\\left(q_{6} \\right)} & - \\left(- \\left(\\sin{\\left(q_{2} \\right)} \\sin{\\left(q_{2} + q_{3} \\right)} + \\cos{\\left(q_{2} \\right)} \\cos{\\left(q_{2} + q_{3} \\right)}\\right) \\sin{\\left(q_{4} \\right)} \\sin{\\left(q_{5} \\right)} + \\left(\\sin{\\left(q_{2} \\right)} \\sin{\\left(q_{2} + q_{3} \\right)} + \\cos{\\left(q_{2} \\right)} \\cos{\\left(q_{2} + q_{3} \\right)}\\right) \\cos{\\left(q_{4} \\right)} \\cos{\\left(q_{5} \\right)}\\right) \\sin{\\left(q_{6} \\right)} + \\left(- \\left(\\sin{\\left(q_{2} \\right)} \\sin{\\left(q_{2} + q_{3} \\right)} + \\cos{\\left(q_{2} \\right)} \\cos{\\left(q_{2} + q_{3} \\right)}\\right) \\sin{\\left(q_{4} \\right)} \\cos{\\left(q_{5} \\right)} - \\left(\\sin{\\left(q_{2} \\right)} \\sin{\\left(q_{2} + q_{3} \\right)} + \\cos{\\left(q_{2} \\right)} \\cos{\\left(q_{2} + q_{3} \\right)}\\right) \\sin{\\left(q_{5} \\right)} \\cos{\\left(q_{4} \\right)}\\right) \\cos{\\left(q_{6} \\right)} & \\sin{\\left(q_{2} \\right)} \\cos{\\left(q_{2} + q_{3} \\right)} - \\sin{\\left(q_{2} + q_{3} \\right)} \\cos{\\left(q_{2} \\right)} & d_{2} \\cos{\\left(q_{2} \\right)} + d_{3} \\sin{\\left(q_{2} \\right)} \\sin{\\left(q_{2} + q_{3} \\right)} + d_{3} \\cos{\\left(q_{2} \\right)} \\cos{\\left(q_{2} + q_{3} \\right)} - d_{4} \\left(\\sin{\\left(q_{2} \\right)} \\cos{\\left(q_{2} + q_{3} \\right)} - \\sin{\\left(q_{2} + q_{3} \\right)} \\cos{\\left(q_{2} \\right)}\\right) - d_{5} \\left(\\sin{\\left(q_{2} \\right)} \\cos{\\left(q_{2} + q_{3} \\right)} - \\sin{\\left(q_{2} + q_{3} \\right)} \\cos{\\left(q_{2} \\right)}\\right) + \\frac{\\pi \\left(\\sin{\\left(q_{2} \\right)} \\sin{\\left(q_{2} + q_{3} \\right)} + \\cos{\\left(q_{2} \\right)} \\cos{\\left(q_{2} + q_{3} \\right)}\\right) \\sin{\\left(q_{4} \\right)} \\sin{\\left(q_{5} \\right)}}{2} - \\frac{\\pi \\left(\\sin{\\left(q_{2} \\right)} \\sin{\\left(q_{2} + q_{3} \\right)} + \\cos{\\left(q_{2} \\right)} \\cos{\\left(q_{2} + q_{3} \\right)}\\right) \\cos{\\left(q_{4} \\right)} \\cos{\\left(q_{5} \\right)}}{2} - \\frac{\\pi \\left(\\sin{\\left(q_{2} \\right)} \\sin{\\left(q_{2} + q_{3} \\right)} + \\cos{\\left(q_{2} \\right)} \\cos{\\left(q_{2} + q_{3} \\right)}\\right) \\cos{\\left(q_{4} \\right)}}{2}\\\\0 & 0 & 0 & 1\\end{matrix}\\right]$"
     },
     "metadata": {},
     "execution_count": 8
    }
   ],
   "source": [
    "A06 = A01*A12*A23*A34*A45*A56\n",
    "A06 # A03"
   ]
  },
  {
   "cell_type": "code",
   "execution_count": 9,
   "metadata": {},
   "outputs": [
    {
     "output_type": "execute_result",
     "data": {
      "text/plain": [
       "Matrix([\n",
       "[d1*cos(q1) + d2*sin(q2)*cos(q1) + d3*sin(q2)*cos(q1)*cos(q2 + q3) - d3*sin(q2 + q3)*cos(q1)*cos(q2) - d4*(-sin(q2)*sin(q2 + q3)*cos(q1) - cos(q1)*cos(q2)*cos(q2 + q3)) - d5*(-sin(q2)*sin(q2 + q3)*cos(q1) - cos(q1)*cos(q2)*cos(q2 + q3)) - pi*(-(sin(q2)*cos(q1)*cos(q2 + q3) - sin(q2 + q3)*cos(q1)*cos(q2))*sin(q4) - sin(q1)*cos(q4))*sin(q5)/2 - pi*((sin(q2)*cos(q1)*cos(q2 + q3) - sin(q2 + q3)*cos(q1)*cos(q2))*cos(q4) - sin(q1)*sin(q4))*cos(q5)/2 - pi*(sin(q2)*cos(q1)*cos(q2 + q3) - sin(q2 + q3)*cos(q1)*cos(q2))*cos(q4)/2 + pi*sin(q1)*sin(q4)/2],\n",
       "[d1*sin(q1) + d2*sin(q1)*sin(q2) + d3*sin(q1)*sin(q2)*cos(q2 + q3) - d3*sin(q1)*sin(q2 + q3)*cos(q2) - d4*(-sin(q1)*sin(q2)*sin(q2 + q3) - sin(q1)*cos(q2)*cos(q2 + q3)) - d5*(-sin(q1)*sin(q2)*sin(q2 + q3) - sin(q1)*cos(q2)*cos(q2 + q3)) - pi*(-(sin(q1)*sin(q2)*cos(q2 + q3) - sin(q1)*sin(q2 + q3)*cos(q2))*sin(q4) + cos(q1)*cos(q4))*sin(q5)/2 - pi*((sin(q1)*sin(q2)*cos(q2 + q3) - sin(q1)*sin(q2 + q3)*cos(q2))*cos(q4) + sin(q4)*cos(q1))*cos(q5)/2 - pi*(sin(q1)*sin(q2)*cos(q2 + q3) - sin(q1)*sin(q2 + q3)*cos(q2))*cos(q4)/2 - pi*sin(q4)*cos(q1)/2],\n",
       "[                                                                                                                                                                                       d2*cos(q2) + d3*sin(q2)*sin(q2 + q3) + d3*cos(q2)*cos(q2 + q3) - d4*(sin(q2)*cos(q2 + q3) - sin(q2 + q3)*cos(q2)) - d5*(sin(q2)*cos(q2 + q3) - sin(q2 + q3)*cos(q2)) + pi*(sin(q2)*sin(q2 + q3) + cos(q2)*cos(q2 + q3))*sin(q4)*sin(q5)/2 - pi*(sin(q2)*sin(q2 + q3) + cos(q2)*cos(q2 + q3))*cos(q4)*cos(q5)/2 - pi*(sin(q2)*sin(q2 + q3) + cos(q2)*cos(q2 + q3))*cos(q4)/2]])"
      ],
      "text/latex": "$\\displaystyle \\left[\\begin{matrix}d_{1} \\cos{\\left(q_{1} \\right)} + d_{2} \\sin{\\left(q_{2} \\right)} \\cos{\\left(q_{1} \\right)} + d_{3} \\sin{\\left(q_{2} \\right)} \\cos{\\left(q_{1} \\right)} \\cos{\\left(q_{2} + q_{3} \\right)} - d_{3} \\sin{\\left(q_{2} + q_{3} \\right)} \\cos{\\left(q_{1} \\right)} \\cos{\\left(q_{2} \\right)} - d_{4} \\left(- \\sin{\\left(q_{2} \\right)} \\sin{\\left(q_{2} + q_{3} \\right)} \\cos{\\left(q_{1} \\right)} - \\cos{\\left(q_{1} \\right)} \\cos{\\left(q_{2} \\right)} \\cos{\\left(q_{2} + q_{3} \\right)}\\right) - d_{5} \\left(- \\sin{\\left(q_{2} \\right)} \\sin{\\left(q_{2} + q_{3} \\right)} \\cos{\\left(q_{1} \\right)} - \\cos{\\left(q_{1} \\right)} \\cos{\\left(q_{2} \\right)} \\cos{\\left(q_{2} + q_{3} \\right)}\\right) - \\frac{\\pi \\left(- \\left(\\sin{\\left(q_{2} \\right)} \\cos{\\left(q_{1} \\right)} \\cos{\\left(q_{2} + q_{3} \\right)} - \\sin{\\left(q_{2} + q_{3} \\right)} \\cos{\\left(q_{1} \\right)} \\cos{\\left(q_{2} \\right)}\\right) \\sin{\\left(q_{4} \\right)} - \\sin{\\left(q_{1} \\right)} \\cos{\\left(q_{4} \\right)}\\right) \\sin{\\left(q_{5} \\right)}}{2} - \\frac{\\pi \\left(\\left(\\sin{\\left(q_{2} \\right)} \\cos{\\left(q_{1} \\right)} \\cos{\\left(q_{2} + q_{3} \\right)} - \\sin{\\left(q_{2} + q_{3} \\right)} \\cos{\\left(q_{1} \\right)} \\cos{\\left(q_{2} \\right)}\\right) \\cos{\\left(q_{4} \\right)} - \\sin{\\left(q_{1} \\right)} \\sin{\\left(q_{4} \\right)}\\right) \\cos{\\left(q_{5} \\right)}}{2} - \\frac{\\pi \\left(\\sin{\\left(q_{2} \\right)} \\cos{\\left(q_{1} \\right)} \\cos{\\left(q_{2} + q_{3} \\right)} - \\sin{\\left(q_{2} + q_{3} \\right)} \\cos{\\left(q_{1} \\right)} \\cos{\\left(q_{2} \\right)}\\right) \\cos{\\left(q_{4} \\right)}}{2} + \\frac{\\pi \\sin{\\left(q_{1} \\right)} \\sin{\\left(q_{4} \\right)}}{2}\\\\d_{1} \\sin{\\left(q_{1} \\right)} + d_{2} \\sin{\\left(q_{1} \\right)} \\sin{\\left(q_{2} \\right)} + d_{3} \\sin{\\left(q_{1} \\right)} \\sin{\\left(q_{2} \\right)} \\cos{\\left(q_{2} + q_{3} \\right)} - d_{3} \\sin{\\left(q_{1} \\right)} \\sin{\\left(q_{2} + q_{3} \\right)} \\cos{\\left(q_{2} \\right)} - d_{4} \\left(- \\sin{\\left(q_{1} \\right)} \\sin{\\left(q_{2} \\right)} \\sin{\\left(q_{2} + q_{3} \\right)} - \\sin{\\left(q_{1} \\right)} \\cos{\\left(q_{2} \\right)} \\cos{\\left(q_{2} + q_{3} \\right)}\\right) - d_{5} \\left(- \\sin{\\left(q_{1} \\right)} \\sin{\\left(q_{2} \\right)} \\sin{\\left(q_{2} + q_{3} \\right)} - \\sin{\\left(q_{1} \\right)} \\cos{\\left(q_{2} \\right)} \\cos{\\left(q_{2} + q_{3} \\right)}\\right) - \\frac{\\pi \\left(- \\left(\\sin{\\left(q_{1} \\right)} \\sin{\\left(q_{2} \\right)} \\cos{\\left(q_{2} + q_{3} \\right)} - \\sin{\\left(q_{1} \\right)} \\sin{\\left(q_{2} + q_{3} \\right)} \\cos{\\left(q_{2} \\right)}\\right) \\sin{\\left(q_{4} \\right)} + \\cos{\\left(q_{1} \\right)} \\cos{\\left(q_{4} \\right)}\\right) \\sin{\\left(q_{5} \\right)}}{2} - \\frac{\\pi \\left(\\left(\\sin{\\left(q_{1} \\right)} \\sin{\\left(q_{2} \\right)} \\cos{\\left(q_{2} + q_{3} \\right)} - \\sin{\\left(q_{1} \\right)} \\sin{\\left(q_{2} + q_{3} \\right)} \\cos{\\left(q_{2} \\right)}\\right) \\cos{\\left(q_{4} \\right)} + \\sin{\\left(q_{4} \\right)} \\cos{\\left(q_{1} \\right)}\\right) \\cos{\\left(q_{5} \\right)}}{2} - \\frac{\\pi \\left(\\sin{\\left(q_{1} \\right)} \\sin{\\left(q_{2} \\right)} \\cos{\\left(q_{2} + q_{3} \\right)} - \\sin{\\left(q_{1} \\right)} \\sin{\\left(q_{2} + q_{3} \\right)} \\cos{\\left(q_{2} \\right)}\\right) \\cos{\\left(q_{4} \\right)}}{2} - \\frac{\\pi \\sin{\\left(q_{4} \\right)} \\cos{\\left(q_{1} \\right)}}{2}\\\\d_{2} \\cos{\\left(q_{2} \\right)} + d_{3} \\sin{\\left(q_{2} \\right)} \\sin{\\left(q_{2} + q_{3} \\right)} + d_{3} \\cos{\\left(q_{2} \\right)} \\cos{\\left(q_{2} + q_{3} \\right)} - d_{4} \\left(\\sin{\\left(q_{2} \\right)} \\cos{\\left(q_{2} + q_{3} \\right)} - \\sin{\\left(q_{2} + q_{3} \\right)} \\cos{\\left(q_{2} \\right)}\\right) - d_{5} \\left(\\sin{\\left(q_{2} \\right)} \\cos{\\left(q_{2} + q_{3} \\right)} - \\sin{\\left(q_{2} + q_{3} \\right)} \\cos{\\left(q_{2} \\right)}\\right) + \\frac{\\pi \\left(\\sin{\\left(q_{2} \\right)} \\sin{\\left(q_{2} + q_{3} \\right)} + \\cos{\\left(q_{2} \\right)} \\cos{\\left(q_{2} + q_{3} \\right)}\\right) \\sin{\\left(q_{4} \\right)} \\sin{\\left(q_{5} \\right)}}{2} - \\frac{\\pi \\left(\\sin{\\left(q_{2} \\right)} \\sin{\\left(q_{2} + q_{3} \\right)} + \\cos{\\left(q_{2} \\right)} \\cos{\\left(q_{2} + q_{3} \\right)}\\right) \\cos{\\left(q_{4} \\right)} \\cos{\\left(q_{5} \\right)}}{2} - \\frac{\\pi \\left(\\sin{\\left(q_{2} \\right)} \\sin{\\left(q_{2} + q_{3} \\right)} + \\cos{\\left(q_{2} \\right)} \\cos{\\left(q_{2} + q_{3} \\right)}\\right) \\cos{\\left(q_{4} \\right)}}{2}\\end{matrix}\\right]$"
     },
     "metadata": {},
     "execution_count": 9
    }
   ],
   "source": [
    "K_kart = A06.col(3)\n",
    "K_kart.row_del(3)\n",
    "K_kart # Kinematyka dla katezjańskichfsefsefsefsetqedfsfsefsefse"
   ]
  }
 ]
}