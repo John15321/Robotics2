{
 "cells": [
  {
   "cell_type": "markdown",
   "metadata": {},
   "source": [
    "<center> <h1>Sprawozdanie 1</h1> </center>\n",
    "<center> <h2>Jan Bronicki 249011</h2> </center>"
   ]
  },
  {
   "cell_type": "markdown",
   "metadata": {},
   "source": [
    "# Cel zadania\n",
    "Celem jest zbadanie fizycznych parametrów robota FANUC oraz jego struktury kinematycznej.\n",
    "W celu obliczenia fizycznych parametrów robota obliczamy macierz kinematyki oraz macierze transformacji pomiędzy kolejnymi układami współrzędnych z podanej tabeli Denavita-Hartenberga:\n",
    "\n",
<<<<<<< HEAD
=======
    "<center>\n",
>>>>>>> b4bdb9d53fe22d974f1c8d0ca57c39b4b302099a
    "\n",
    "|Ogniwo | $a_i$ | $\\alpha_i$       | $d_i$  | $\\theta_i$            |\n",
    "|:-----:|:-----:|:----------------:|:------:|-----------------------|\n",
    "|$1$    | $d_1$ | $-\\frac{\\pi}{2}$ | $0$    | $q_1$                 |\n",
    "|$2$    | $d_2$ | $\\pi$            | $0$    | $q_2 - \\frac{\\pi}{2}$ |\n",
    "|$3$    | $d_3$ | $-\\frac{\\pi}{2}$ | $0$    | $q_2 + q_3$           |\n",
    "|$4$    | $0$   | $\\frac{\\pi}{2}$  | $-d_4$ | $q_4$                 |\n",
    "|$5$    | $0$   | $-\\frac{\\pi}{2}$ | $0$    | $q_5$                 |\n",
<<<<<<< HEAD
    "|$6$    | $0$   | $0$              | $-d_5$ | $q_6$                 |\n"
=======
    "|$6$    | $0$   | $0$              | $-d_5$ | $q_6$                 |\n",
    "\n",
    "</center>\n"
>>>>>>> b4bdb9d53fe22d974f1c8d0ca57c39b4b302099a
   ]
  },
  {
   "cell_type": "markdown",
   "metadata": {},
   "source": [
    "# Obliczenia\n",
    "Do oblcizeń używamy Python'a. Przeprowadzamy obliczenia symboliczne za pomocą biblioteki SymPy:"
   ]
  },
  {
   "cell_type": "code",
   "execution_count": 1,
   "metadata": {},
   "outputs": [],
   "source": [
    "from sympy import *\n",
    "from rotations import *\n",
    "# Deklarujemy zmienne symboliczne jakie moglibysmy potrzebowac\n",
    "q1, q2, q3, q4, q5, q6 = symbols('q1, q2, q3, q4, q5, q6', real=True)\n",
    "a, a1, a2, a3 = symbols('a a1 a2 a3', real=True)\n",
    "d, d1, d2, d3, d4, d5 = symbols('d, d1, d2, d3, d4, d5', real=True)\n",
    "alfa, beta = symbols('\\\\alpha \\\\beta', real=True)\n",
    "x, y, z = symbols('x y z')"
   ]
  },
  {
   "cell_type": "markdown",
   "metadata": {},
   "source": [
    "<h2>Obliczamy każdą macierz $A$ po kolei</h2>"
   ]
  },
  {
   "cell_type": "markdown",
   "metadata": {},
   "source": [
    "<h1> $A_{0}^{1}=$ </h1>"
   ]
  },
  {
   "cell_type": "code",
   "execution_count": 2,
   "metadata": {},
   "outputs": [
    {
     "data": {
      "text/latex": [
       "$\\displaystyle \\left[\\begin{matrix}\\cos{\\left(q_{1} \\right)} & 0 & - \\sin{\\left(q_{1} \\right)} & d_{1} \\cos{\\left(q_{1} \\right)}\\\\\\sin{\\left(q_{1} \\right)} & 0 & \\cos{\\left(q_{1} \\right)} & d_{1} \\sin{\\left(q_{1} \\right)}\\\\0 & -1 & 0 & 0\\\\0 & 0 & 0 & 1\\end{matrix}\\right]$"
      ],
      "text/plain": [
       "Matrix([\n",
       "[cos(q1),  0, -sin(q1), d1*cos(q1)],\n",
       "[sin(q1),  0,  cos(q1), d1*sin(q1)],\n",
       "[      0, -1,        0,          0],\n",
       "[      0,  0,        0,          1]])"
      ]
     },
     "execution_count": 2,
     "metadata": {},
     "output_type": "execute_result"
    }
   ],
   "source": [
    "A01 = rot(z, q1)*trans(z, 0)*trans(x, d1)*rot(x, -pi/2)\n",
    "A01"
   ]
  },
  {
   "cell_type": "markdown",
   "metadata": {},
   "source": [
    "<h1> $A_{1}^{2}=$ </h1>"
   ]
  },
  {
   "cell_type": "code",
   "execution_count": 3,
   "metadata": {},
   "outputs": [
    {
     "data": {
      "text/latex": [
       "$\\displaystyle \\left[\\begin{matrix}\\sin{\\left(q_{2} \\right)} & - \\cos{\\left(q_{2} \\right)} & 0 & d_{2} \\sin{\\left(q_{2} \\right)}\\\\- \\cos{\\left(q_{2} \\right)} & - \\sin{\\left(q_{2} \\right)} & 0 & - d_{2} \\cos{\\left(q_{2} \\right)}\\\\0 & 0 & -1 & 0\\\\0 & 0 & 0 & 1\\end{matrix}\\right]$"
      ],
      "text/plain": [
       "Matrix([\n",
       "[ sin(q2), -cos(q2),  0,  d2*sin(q2)],\n",
       "[-cos(q2), -sin(q2),  0, -d2*cos(q2)],\n",
       "[       0,        0, -1,           0],\n",
       "[       0,        0,  0,           1]])"
      ]
     },
     "execution_count": 3,
     "metadata": {},
     "output_type": "execute_result"
    }
   ],
   "source": [
    "A12 = rot(z, q2-(pi/2))*trans(z, 0)*trans(x, d2)*rot(x, pi)\n",
    "A12"
   ]
  },
  {
   "cell_type": "markdown",
   "metadata": {},
   "source": [
    "<h1> $A_{2}^{3}=$ </h1>"
   ]
  },
  {
   "cell_type": "code",
   "execution_count": 4,
   "metadata": {},
   "outputs": [
    {
     "data": {
      "text/latex": [
       "$\\displaystyle \\left[\\begin{matrix}\\cos{\\left(q_{2} + q_{3} \\right)} & 0 & - \\sin{\\left(q_{2} + q_{3} \\right)} & d_{3} \\cos{\\left(q_{2} + q_{3} \\right)}\\\\\\sin{\\left(q_{2} + q_{3} \\right)} & 0 & \\cos{\\left(q_{2} + q_{3} \\right)} & d_{3} \\sin{\\left(q_{2} + q_{3} \\right)}\\\\0 & -1 & 0 & 0\\\\0 & 0 & 0 & 1\\end{matrix}\\right]$"
      ],
      "text/plain": [
       "Matrix([\n",
       "[cos(q2 + q3),  0, -sin(q2 + q3), d3*cos(q2 + q3)],\n",
       "[sin(q2 + q3),  0,  cos(q2 + q3), d3*sin(q2 + q3)],\n",
       "[           0, -1,             0,               0],\n",
       "[           0,  0,             0,               1]])"
      ]
     },
     "execution_count": 4,
     "metadata": {},
     "output_type": "execute_result"
    }
   ],
   "source": [
    "A23 = rot(z, q2+q3)*trans(z, 0)*trans(x, d3)*rot(x, -pi/2)\n",
    "A23"
   ]
  },
  {
   "cell_type": "markdown",
   "metadata": {},
   "source": [
    "<h1> $A_{3}^{4}=$ </h1>"
   ]
  },
  {
   "cell_type": "code",
   "execution_count": 5,
   "metadata": {},
   "outputs": [
    {
     "data": {
      "text/latex": [
       "$\\displaystyle \\left[\\begin{matrix}\\cos{\\left(q_{4} \\right)} & 0 & \\sin{\\left(q_{4} \\right)} & 0\\\\\\sin{\\left(q_{4} \\right)} & 0 & - \\cos{\\left(q_{4} \\right)} & 0\\\\0 & 1 & 0 & - d_{4}\\\\0 & 0 & 0 & 1\\end{matrix}\\right]$"
      ],
      "text/plain": [
       "Matrix([\n",
       "[cos(q4), 0,  sin(q4),   0],\n",
       "[sin(q4), 0, -cos(q4),   0],\n",
       "[      0, 1,        0, -d4],\n",
       "[      0, 0,        0,   1]])"
      ]
     },
     "execution_count": 5,
     "metadata": {},
     "output_type": "execute_result"
    }
   ],
   "source": [
    "A34 = rot(z, q4)*trans(z, -d4)*trans(x, 0)*rot(x, pi/2)\n",
    "A34"
   ]
  },
  {
   "cell_type": "markdown",
   "metadata": {},
   "source": [
    "<h1> $A_{4}^{5}=$ </h1>"
   ]
  },
  {
   "cell_type": "code",
   "execution_count": 6,
   "metadata": {},
   "outputs": [
    {
     "data": {
      "text/latex": [
       "$\\displaystyle \\left[\\begin{matrix}\\cos{\\left(q_{5} \\right)} & 0 & - \\sin{\\left(q_{5} \\right)} & 0\\\\\\sin{\\left(q_{5} \\right)} & 0 & \\cos{\\left(q_{5} \\right)} & 0\\\\0 & -1 & 0 & 0\\\\0 & 0 & 0 & 1\\end{matrix}\\right]$"
      ],
      "text/plain": [
       "Matrix([\n",
       "[cos(q5),  0, -sin(q5), 0],\n",
       "[sin(q5),  0,  cos(q5), 0],\n",
       "[      0, -1,        0, 0],\n",
       "[      0,  0,        0, 1]])"
      ]
     },
     "execution_count": 6,
     "metadata": {},
     "output_type": "execute_result"
    }
   ],
   "source": [
    "A45 = rot(z, q5)*trans(z, 0)*trans(x, 0)*rot(x, -pi/2)\n",
    "A45"
   ]
  },
  {
   "cell_type": "markdown",
   "metadata": {},
   "source": [
    "<h1> $A_{5}^{6}=$ </h1>"
   ]
  },
  {
   "cell_type": "code",
   "execution_count": 7,
   "metadata": {},
   "outputs": [
    {
     "data": {
      "text/latex": [
       "$\\displaystyle \\left[\\begin{matrix}\\cos{\\left(q_{6} \\right)} & - \\sin{\\left(q_{6} \\right)} & 0 & 0\\\\\\sin{\\left(q_{6} \\right)} & \\cos{\\left(q_{6} \\right)} & 0 & 0\\\\0 & 0 & 1 & - d_{5}\\\\0 & 0 & 0 & 1\\end{matrix}\\right]$"
      ],
      "text/plain": [
       "Matrix([\n",
       "[cos(q6), -sin(q6), 0,   0],\n",
       "[sin(q6),  cos(q6), 0,   0],\n",
       "[      0,        0, 1, -d5],\n",
       "[      0,        0, 0,   1]])"
      ]
     },
     "execution_count": 7,
     "metadata": {},
     "output_type": "execute_result"
    }
   ],
   "source": [
    "A56 = rot(z, q6)*trans(z, -d5)*trans(x, 0)*rot(x, 0)\n",
    "A56"
   ]
  },
  {
   "cell_type": "markdown",
   "metadata": {},
   "source": [
    "<h2>Obliczamy macierz Kinematyki:</h2>"
   ]
  },
  {
   "cell_type": "markdown",
   "metadata": {},
   "source": [
    "<h1> $K=A_{0}^{6}=$ </h1>"
   ]
  },
  {
   "cell_type": "code",
   "execution_count": 8,
   "metadata": {},
   "outputs": [
    {
     "data": {
      "text/latex": [
       "$\\displaystyle \\left[\\begin{matrix}- \\left(\\left(\\sin{\\left(q_{1} \\right)} \\sin{\\left(q_{4} \\right)} + \\sin{\\left(q_{3} \\right)} \\cos{\\left(q_{1} \\right)} \\cos{\\left(q_{4} \\right)}\\right) \\cos{\\left(q_{5} \\right)} + \\sin{\\left(q_{5} \\right)} \\cos{\\left(q_{1} \\right)} \\cos{\\left(q_{3} \\right)}\\right) \\cos{\\left(q_{6} \\right)} - \\left(\\sin{\\left(q_{1} \\right)} \\cos{\\left(q_{4} \\right)} - \\sin{\\left(q_{3} \\right)} \\sin{\\left(q_{4} \\right)} \\cos{\\left(q_{1} \\right)}\\right) \\sin{\\left(q_{6} \\right)} & \\left(\\left(\\sin{\\left(q_{1} \\right)} \\sin{\\left(q_{4} \\right)} + \\sin{\\left(q_{3} \\right)} \\cos{\\left(q_{1} \\right)} \\cos{\\left(q_{4} \\right)}\\right) \\cos{\\left(q_{5} \\right)} + \\sin{\\left(q_{5} \\right)} \\cos{\\left(q_{1} \\right)} \\cos{\\left(q_{3} \\right)}\\right) \\sin{\\left(q_{6} \\right)} - \\left(\\sin{\\left(q_{1} \\right)} \\cos{\\left(q_{4} \\right)} - \\sin{\\left(q_{3} \\right)} \\sin{\\left(q_{4} \\right)} \\cos{\\left(q_{1} \\right)}\\right) \\cos{\\left(q_{6} \\right)} & \\left(\\sin{\\left(q_{1} \\right)} \\sin{\\left(q_{4} \\right)} + \\sin{\\left(q_{3} \\right)} \\cos{\\left(q_{1} \\right)} \\cos{\\left(q_{4} \\right)}\\right) \\sin{\\left(q_{5} \\right)} - \\cos{\\left(q_{1} \\right)} \\cos{\\left(q_{3} \\right)} \\cos{\\left(q_{5} \\right)} & d_{1} \\cos{\\left(q_{1} \\right)} + d_{2} \\sin{\\left(q_{2} \\right)} \\cos{\\left(q_{1} \\right)} - d_{3} \\sin{\\left(q_{3} \\right)} \\cos{\\left(q_{1} \\right)} + d_{4} \\cos{\\left(q_{1} \\right)} \\cos{\\left(q_{3} \\right)} - d_{5} \\sin{\\left(q_{1} \\right)} \\sin{\\left(q_{4} \\right)} \\sin{\\left(q_{5} \\right)} - d_{5} \\sin{\\left(q_{3} \\right)} \\sin{\\left(q_{5} \\right)} \\cos{\\left(q_{1} \\right)} \\cos{\\left(q_{4} \\right)} + d_{5} \\cos{\\left(q_{1} \\right)} \\cos{\\left(q_{3} \\right)} \\cos{\\left(q_{5} \\right)}\\\\\\left(\\left(- \\sin{\\left(q_{1} \\right)} \\sin{\\left(q_{3} \\right)} \\cos{\\left(q_{4} \\right)} + \\sin{\\left(q_{4} \\right)} \\cos{\\left(q_{1} \\right)}\\right) \\cos{\\left(q_{5} \\right)} - \\sin{\\left(q_{1} \\right)} \\sin{\\left(q_{5} \\right)} \\cos{\\left(q_{3} \\right)}\\right) \\cos{\\left(q_{6} \\right)} + \\left(\\sin{\\left(q_{1} \\right)} \\sin{\\left(q_{3} \\right)} \\sin{\\left(q_{4} \\right)} + \\cos{\\left(q_{1} \\right)} \\cos{\\left(q_{4} \\right)}\\right) \\sin{\\left(q_{6} \\right)} & \\left(\\left(\\sin{\\left(q_{1} \\right)} \\sin{\\left(q_{3} \\right)} \\cos{\\left(q_{4} \\right)} - \\sin{\\left(q_{4} \\right)} \\cos{\\left(q_{1} \\right)}\\right) \\cos{\\left(q_{5} \\right)} + \\sin{\\left(q_{1} \\right)} \\sin{\\left(q_{5} \\right)} \\cos{\\left(q_{3} \\right)}\\right) \\sin{\\left(q_{6} \\right)} + \\left(\\sin{\\left(q_{1} \\right)} \\sin{\\left(q_{3} \\right)} \\sin{\\left(q_{4} \\right)} + \\cos{\\left(q_{1} \\right)} \\cos{\\left(q_{4} \\right)}\\right) \\cos{\\left(q_{6} \\right)} & \\left(\\sin{\\left(q_{1} \\right)} \\sin{\\left(q_{3} \\right)} \\cos{\\left(q_{4} \\right)} - \\sin{\\left(q_{4} \\right)} \\cos{\\left(q_{1} \\right)}\\right) \\sin{\\left(q_{5} \\right)} - \\sin{\\left(q_{1} \\right)} \\cos{\\left(q_{3} \\right)} \\cos{\\left(q_{5} \\right)} & d_{1} \\sin{\\left(q_{1} \\right)} + d_{2} \\sin{\\left(q_{1} \\right)} \\sin{\\left(q_{2} \\right)} - d_{3} \\sin{\\left(q_{1} \\right)} \\sin{\\left(q_{3} \\right)} + d_{4} \\sin{\\left(q_{1} \\right)} \\cos{\\left(q_{3} \\right)} - d_{5} \\sin{\\left(q_{1} \\right)} \\sin{\\left(q_{3} \\right)} \\sin{\\left(q_{5} \\right)} \\cos{\\left(q_{4} \\right)} + d_{5} \\sin{\\left(q_{1} \\right)} \\cos{\\left(q_{3} \\right)} \\cos{\\left(q_{5} \\right)} + d_{5} \\sin{\\left(q_{4} \\right)} \\sin{\\left(q_{5} \\right)} \\cos{\\left(q_{1} \\right)}\\\\\\left(- \\sin{\\left(q_{3} \\right)} \\sin{\\left(q_{5} \\right)} + \\cos{\\left(q_{3} \\right)} \\cos{\\left(q_{4} \\right)} \\cos{\\left(q_{5} \\right)}\\right) \\cos{\\left(q_{6} \\right)} - \\sin{\\left(q_{4} \\right)} \\sin{\\left(q_{6} \\right)} \\cos{\\left(q_{3} \\right)} & \\left(\\sin{\\left(q_{3} \\right)} \\sin{\\left(q_{5} \\right)} - \\cos{\\left(q_{3} \\right)} \\cos{\\left(q_{4} \\right)} \\cos{\\left(q_{5} \\right)}\\right) \\sin{\\left(q_{6} \\right)} - \\sin{\\left(q_{4} \\right)} \\cos{\\left(q_{3} \\right)} \\cos{\\left(q_{6} \\right)} & - \\sin{\\left(q_{3} \\right)} \\cos{\\left(q_{5} \\right)} - \\sin{\\left(q_{5} \\right)} \\cos{\\left(q_{3} \\right)} \\cos{\\left(q_{4} \\right)} & d_{2} \\cos{\\left(q_{2} \\right)} + d_{3} \\cos{\\left(q_{3} \\right)} + d_{4} \\sin{\\left(q_{3} \\right)} + d_{5} \\sin{\\left(q_{3} \\right)} \\cos{\\left(q_{5} \\right)} + d_{5} \\sin{\\left(q_{5} \\right)} \\cos{\\left(q_{3} \\right)} \\cos{\\left(q_{4} \\right)}\\\\0 & 0 & 0 & 1\\end{matrix}\\right]$"
      ],
      "text/plain": [
       "Matrix([\n",
       "[-((sin(q1)*sin(q4) + sin(q3)*cos(q1)*cos(q4))*cos(q5) + sin(q5)*cos(q1)*cos(q3))*cos(q6) - (sin(q1)*cos(q4) - sin(q3)*sin(q4)*cos(q1))*sin(q6), ((sin(q1)*sin(q4) + sin(q3)*cos(q1)*cos(q4))*cos(q5) + sin(q5)*cos(q1)*cos(q3))*sin(q6) - (sin(q1)*cos(q4) - sin(q3)*sin(q4)*cos(q1))*cos(q6), (sin(q1)*sin(q4) + sin(q3)*cos(q1)*cos(q4))*sin(q5) - cos(q1)*cos(q3)*cos(q5), d1*cos(q1) + d2*sin(q2)*cos(q1) - d3*sin(q3)*cos(q1) + d4*cos(q1)*cos(q3) - d5*sin(q1)*sin(q4)*sin(q5) - d5*sin(q3)*sin(q5)*cos(q1)*cos(q4) + d5*cos(q1)*cos(q3)*cos(q5)],\n",
       "[((-sin(q1)*sin(q3)*cos(q4) + sin(q4)*cos(q1))*cos(q5) - sin(q1)*sin(q5)*cos(q3))*cos(q6) + (sin(q1)*sin(q3)*sin(q4) + cos(q1)*cos(q4))*sin(q6), ((sin(q1)*sin(q3)*cos(q4) - sin(q4)*cos(q1))*cos(q5) + sin(q1)*sin(q5)*cos(q3))*sin(q6) + (sin(q1)*sin(q3)*sin(q4) + cos(q1)*cos(q4))*cos(q6), (sin(q1)*sin(q3)*cos(q4) - sin(q4)*cos(q1))*sin(q5) - sin(q1)*cos(q3)*cos(q5), d1*sin(q1) + d2*sin(q1)*sin(q2) - d3*sin(q1)*sin(q3) + d4*sin(q1)*cos(q3) - d5*sin(q1)*sin(q3)*sin(q5)*cos(q4) + d5*sin(q1)*cos(q3)*cos(q5) + d5*sin(q4)*sin(q5)*cos(q1)],\n",
       "[                                                                (-sin(q3)*sin(q5) + cos(q3)*cos(q4)*cos(q5))*cos(q6) - sin(q4)*sin(q6)*cos(q3),                                                                 (sin(q3)*sin(q5) - cos(q3)*cos(q4)*cos(q5))*sin(q6) - sin(q4)*cos(q3)*cos(q6),                                    -sin(q3)*cos(q5) - sin(q5)*cos(q3)*cos(q4),                                                                                   d2*cos(q2) + d3*cos(q3) + d4*sin(q3) + d5*sin(q3)*cos(q5) + d5*sin(q5)*cos(q3)*cos(q4)],\n",
       "[                                                                                                                                             0,                                                                                                                                             0,                                                                             0,                                                                                                                                                                        1]])"
      ]
     },
     "execution_count": 8,
     "metadata": {},
     "output_type": "execute_result"
    }
   ],
   "source": [
    "K = simplify(A01*A12*A23*A34*A45*A56)\n",
    "K"
   ]
  },
  {
   "cell_type": "markdown",
   "metadata": {},
   "source": [
    "<h2>Wektor translacji:</h2>"
   ]
  },
  {
   "cell_type": "code",
   "execution_count": 9,
   "metadata": {},
   "outputs": [],
   "source": [
    "T = simplify(K.col(3).row_del(3))"
   ]
  },
  {
   "cell_type": "code",
   "execution_count": 10,
   "metadata": {},
   "outputs": [
    {
     "data": {
      "text/latex": [
       "$\\displaystyle \\left[\\begin{matrix}d_{2} \\sin{\\left(q_{2} \\right)} \\cos{\\left(q_{1} \\right)} + d_{4} \\cos{\\left(q_{1} \\right)} \\cos{\\left(q_{3} \\right)} - d_{5} \\sin{\\left(q_{1} \\right)} \\sin{\\left(q_{4} \\right)} \\sin{\\left(q_{5} \\right)} - d_{5} \\sin{\\left(q_{3} \\right)} \\sin{\\left(q_{5} \\right)} \\cos{\\left(q_{1} \\right)} \\cos{\\left(q_{4} \\right)} + d_{5} \\cos{\\left(q_{1} \\right)} \\cos{\\left(q_{3} \\right)} \\cos{\\left(q_{5} \\right)} - 75 \\sin{\\left(q_{3} \\right)} \\cos{\\left(q_{1} \\right)} + 75 \\cos{\\left(q_{1} \\right)}\\\\d_{2} \\sin{\\left(q_{1} \\right)} \\sin{\\left(q_{2} \\right)} + d_{4} \\sin{\\left(q_{1} \\right)} \\cos{\\left(q_{3} \\right)} - d_{5} \\sin{\\left(q_{1} \\right)} \\sin{\\left(q_{3} \\right)} \\sin{\\left(q_{5} \\right)} \\cos{\\left(q_{4} \\right)} + d_{5} \\sin{\\left(q_{1} \\right)} \\cos{\\left(q_{3} \\right)} \\cos{\\left(q_{5} \\right)} + d_{5} \\sin{\\left(q_{4} \\right)} \\sin{\\left(q_{5} \\right)} \\cos{\\left(q_{1} \\right)} - 75 \\sin{\\left(q_{1} \\right)} \\sin{\\left(q_{3} \\right)} + 75 \\sin{\\left(q_{1} \\right)}\\\\d_{2} \\cos{\\left(q_{2} \\right)} + d_{4} \\sin{\\left(q_{3} \\right)} + d_{5} \\sin{\\left(q_{3} \\right)} \\cos{\\left(q_{5} \\right)} + d_{5} \\sin{\\left(q_{5} \\right)} \\cos{\\left(q_{3} \\right)} \\cos{\\left(q_{4} \\right)} + 75 \\cos{\\left(q_{3} \\right)}\\end{matrix}\\right]$"
      ],
      "text/plain": [
       "Matrix([\n",
       "[d2*sin(q2)*cos(q1) + d4*cos(q1)*cos(q3) - d5*sin(q1)*sin(q4)*sin(q5) - d5*sin(q3)*sin(q5)*cos(q1)*cos(q4) + d5*cos(q1)*cos(q3)*cos(q5) - 75*sin(q3)*cos(q1) + 75*cos(q1)],\n",
       "[d2*sin(q1)*sin(q2) + d4*sin(q1)*cos(q3) - d5*sin(q1)*sin(q3)*sin(q5)*cos(q4) + d5*sin(q1)*cos(q3)*cos(q5) + d5*sin(q4)*sin(q5)*cos(q1) - 75*sin(q1)*sin(q3) + 75*sin(q1)],\n",
       "[                                                                                  d2*cos(q2) + d4*sin(q3) + d5*sin(q3)*cos(q5) + d5*sin(q5)*cos(q3)*cos(q4) + 75*cos(q3)]])"
      ]
     },
     "execution_count": 10,
     "metadata": {},
     "output_type": "execute_result"
    }
   ],
   "source": [
    "# podstawiamy wartosci d1 oraz d3\n",
    "T = T.subs(d1, 75) # 75mm\n",
    "T = T.subs(d3, 75) # 75mm\n",
    "T"
   ]
  },
  {
   "cell_type": "markdown",
   "metadata": {},
   "source": [
    "<h2> Z danych bierzemy następujące wartości, które użyjemy, aby otrzymać wszystkie pozostałe d: </h2>\n",
<<<<<<< HEAD
    "\n",
    "| $q_{1}$ | $q_{2}$ | $q_{3}$ |      $q_{4}$      |      $q_{5}$      | $q_{6}$ |  $x$  |  $y$  |   $z$    |\n",
    "| :-----: | :-----: | :-----: | :---------------: | :---------------: | :-----: | :---: | :---: | :------: |\n",
    "|   0mm   |   0mm   |   0mm   | $\\frac{\\pi}{6}$mm | $\\frac{\\pi}{6}$mm |   0mm   | 464mm | 20mm  | 409.64mm |\n"
=======
    "<center>\n",
    "\n",
    "| $q_{1}$ | $q_{2}$ | $q_{3}$ |      $q_{4}$      |      $q_{5}$      | $q_{6}$ |  $x$  |  $y$  |   $z$    |\n",
    "| :-----: | :-----: | :-----: | :---------------: | :---------------: | :-----: | :---: | :---: | :------: |\n",
    "|   0mm   |   0mm   |   0mm   | $\\frac{\\pi}{6}$mm | $\\frac{\\pi}{6}$mm |   0mm   | 464mm | 20mm  | 409.64mm |\n",
    "</center>"
>>>>>>> b4bdb9d53fe22d974f1c8d0ca57c39b4b302099a
   ]
  },
  {
   "cell_type": "code",
   "execution_count": 11,
   "metadata": {},
   "outputs": [
    {
     "data": {
      "text/plain": [
       "[d4 + sqrt(3)*d5/2 + 75, d5/4, d2 + sqrt(3)*d5/4 + 75]"
      ]
     },
     "execution_count": 11,
     "metadata": {},
     "output_type": "execute_result"
    }
   ],
   "source": [
    "# q1...6 = {0 0 0 π/6 π/6 0}, x: 464.282. y: 20, z: 409.641, dobrane jest tak aby jedno z rownan nie rownalo sie 0=0\n",
    "Tq = T.subs([(q1, 0), (q2, 0), (q3, 0), (q4, pi/6), (q5, pi/6), (q6, 0)])[0:3] \n",
    "Tq"
   ]
  },
  {
   "cell_type": "code",
   "execution_count": 12,
   "metadata": {},
   "outputs": [
    {
     "data": {
      "text/plain": [
       "[d4 + sqrt(3)*d5/2 - 389.282, d5/4 - 20, d2 + sqrt(3)*d5/4 - 334.641]"
      ]
     },
     "execution_count": 12,
     "metadata": {},
     "output_type": "execute_result"
    }
   ],
   "source": [
    "# dajemy nasze x, y, z na druga strone rownania\n",
    "Tq[0] = Tq[0]-464.282\n",
    "Tq[1] = Tq[1]-20\n",
    "Tq[2] = Tq[2]-409.641\n",
    "Tq"
   ]
  },
  {
   "cell_type": "code",
   "execution_count": 13,
   "metadata": {},
   "outputs": [],
   "source": [
    "# rozwiazujemy rownanie i dostajemy obliczone d2, d4, d5\n",
    "ds = linsolve(Tq, (d2, d4, d5))"
   ]
  },
  {
   "cell_type": "markdown",
   "metadata": {},
   "source": [
    "## Poszczególne obliczone $d_{i}$:"
   ]
  },
  {
   "cell_type": "code",
   "execution_count": 14,
   "metadata": {},
   "outputs": [
    {
     "data": {
      "text/latex": [
       "$\\displaystyle 300.0$"
      ],
      "text/plain": [
       "300.0"
      ]
     },
     "execution_count": 14,
     "metadata": {},
     "output_type": "execute_result"
    }
   ],
   "source": [
    "ds.args[0][0].evalf(4)"
   ]
  },
  {
   "cell_type": "code",
   "execution_count": 15,
   "metadata": {},
   "outputs": [
    {
     "data": {
      "text/latex": [
       "$\\displaystyle 320.0$"
      ],
      "text/plain": [
       "320.0"
      ]
     },
     "execution_count": 15,
     "metadata": {},
     "output_type": "execute_result"
    }
   ],
   "source": [
    "ds.args[0][1].evalf(4)"
   ]
  },
  {
   "cell_type": "code",
   "execution_count": 16,
   "metadata": {},
   "outputs": [
    {
     "data": {
      "text/latex": [
       "$\\displaystyle 80.0$"
      ],
      "text/plain": [
       "80.00"
      ]
     },
     "execution_count": 16,
     "metadata": {},
     "output_type": "execute_result"
    }
   ],
   "source": [
    "ds.args[0][2].evalf(4)"
   ]
  },
  {
   "cell_type": "markdown",
   "metadata": {},
   "source": [
    "## Otrzymane wartości $d_{i}$:\n",
<<<<<<< HEAD
    "\n",
    "|$d_{1}$|$d_{2}$|$d_{3}$|$d_{4}$|$d_{5}$|\n",
    "|-------|-------|-------|-------|-------|\n",
    "|75mm   |300mm  |75mm   |320mm  |80mm   |\n"
=======
    "<center>\n",
    "\n",
    "|$d_{1}$|$d_{2}$|$d_{3}$|$d_{4}$|$d_{5}$|\n",
    "|-------|-------|-------|-------|-------|\n",
    "|75mm   |300mm  |75mm   |320mm  |80mm   |\n",
    "</center>"
>>>>>>> b4bdb9d53fe22d974f1c8d0ca57c39b4b302099a
   ]
  }
 ],
 "metadata": {
  "kernelspec": {
   "display_name": "Python 3",
   "language": "python",
   "name": "python3"
  },
  "language_info": {
   "codemirror_mode": {
    "name": "ipython",
    "version": 3
   },
   "file_extension": ".py",
   "mimetype": "text/x-python",
   "name": "python",
   "nbconvert_exporter": "python",
   "pygments_lexer": "ipython3",
   "version": "3.8.0"
  },
  "metadata": {
   "interpreter": {
    "hash": "1baa965d5efe3ac65b79dfc60c0d706280b1da80fedb7760faf2759126c4f253"
   }
  }
 },
 "nbformat": 4,
 "nbformat_minor": 4
}
